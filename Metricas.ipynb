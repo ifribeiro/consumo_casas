{
 "cells": [
  {
   "cell_type": "code",
   "execution_count": 1,
   "metadata": {},
   "outputs": [],
   "source": [
    "import importlib\n",
    "from metricas import metricas as m\n",
    "importlib.reload(m)\n",
    "import pandas as pd\n",
    "import glob\n",
    "import numpy as np\n",
    "from dtw import dtw\n",
    "from scipy.spatial.distance import euclidean "
   ]
  },
  {
   "cell_type": "code",
   "execution_count": 2,
   "metadata": {},
   "outputs": [],
   "source": [
    "As = sorted(glob.glob(\"generated_csvs/A/*.csv\"))\n",
    "Bs = sorted(glob.glob(\"generated_csvs/B/*.csv\"))\n",
    "Cs = sorted(glob.glob(\"generated_csvs/C/*.csv\"))"
   ]
  },
  {
   "cell_type": "code",
   "execution_count": null,
   "metadata": {},
   "outputs": [],
   "source": [
    "def compute_kld(fakes, original, bins):\n",
    "    divergences = []\n",
    "    for fake in fakes:\n",
    "        df_a = pd.read_csv(fake)\n",
    "        values = df_a['Watts'].values\n",
    "        kld = m.kl_divergence(original, samples=[values], bins=bins)[0]\n",
    "        divergences.append(np.round(kld, decimals=3))\n",
    "    return divergences\n",
    "def compute_js(fakes, original, bins):\n",
    "    distances = []\n",
    "    for fake in fakes:\n",
    "        df_a = pd.read_csv(fake)\n",
    "        values = df_a['Watts'].values\n",
    "        js = m.js_divergence(original.reshape(-1,1), samples=[values.reshape(-1,1)], bins=bins)[0]\n",
    "        distances.append(np.round(js, decimals=3))\n",
    "    return distances\n",
    "\n",
    "def compute_w1(fakes, original):\n",
    "    distances = []\n",
    "    for fake in fakes:\n",
    "        df_a = pd.read_csv(fake)\n",
    "        values = df_a['Watts'].values\n",
    "        js = m.w_distance(original.reshape(-1,1), values.reshape(-1,1))[0]\n",
    "        distances.append(np.round(js, decimals=3))\n",
    "\n",
    "    return distances\n"
   ]
  },
  {
   "cell_type": "markdown",
   "metadata": {},
   "source": [
    "# A"
   ]
  },
  {
   "cell_type": "code",
   "execution_count": 3,
   "metadata": {},
   "outputs": [],
   "source": [
    "A = pd.read_csv(\"datasets/A.csv\")\n",
    "wattsA = A['Watts'].values"
   ]
  },
  {
   "cell_type": "markdown",
   "metadata": {},
   "source": [
    "## KL-d"
   ]
  },
  {
   "cell_type": "code",
   "execution_count": null,
   "metadata": {},
   "outputs": [
    {
     "data": {
      "text/plain": [
       "[0.793, 0.729, 0.662]"
      ]
     },
     "execution_count": 24,
     "metadata": {},
     "output_type": "execute_result"
    }
   ],
   "source": [
    "compute_kld(As, wattsA, bins=50)"
   ]
  },
  {
   "cell_type": "code",
   "execution_count": null,
   "metadata": {},
   "outputs": [],
   "source": []
  },
  {
   "cell_type": "markdown",
   "metadata": {},
   "source": [
    "## JS"
   ]
  },
  {
   "cell_type": "code",
   "execution_count": null,
   "metadata": {},
   "outputs": [
    {
     "data": {
      "text/plain": [
       "[0.406, 0.395, 0.376]"
      ]
     },
     "execution_count": 38,
     "metadata": {},
     "output_type": "execute_result"
    }
   ],
   "source": [
    "compute_js(As,wattsA, 10)"
   ]
  },
  {
   "cell_type": "code",
   "execution_count": null,
   "metadata": {},
   "outputs": [
    {
     "data": {
      "text/plain": [
       "[0.441, 0.426, 0.408]"
      ]
     },
     "execution_count": 25,
     "metadata": {},
     "output_type": "execute_result"
    }
   ],
   "source": [
    "compute_js(As,wattsA)"
   ]
  },
  {
   "cell_type": "markdown",
   "metadata": {},
   "source": [
    "## $W_1$"
   ]
  },
  {
   "cell_type": "code",
   "execution_count": null,
   "metadata": {},
   "outputs": [
    {
     "data": {
      "text/plain": [
       "[11.093, 10.835, 9.979]"
      ]
     },
     "execution_count": 27,
     "metadata": {},
     "output_type": "execute_result"
    }
   ],
   "source": [
    "compute_w1(As,wattsA)"
   ]
  },
  {
   "cell_type": "markdown",
   "metadata": {},
   "source": [
    "# B"
   ]
  },
  {
   "cell_type": "markdown",
   "metadata": {},
   "source": [
    "## KL-d"
   ]
  },
  {
   "cell_type": "code",
   "execution_count": 4,
   "metadata": {},
   "outputs": [],
   "source": [
    "B = pd.read_csv(\"datasets/B.csv\")\n",
    "wattsB = B['Watts'].values"
   ]
  },
  {
   "cell_type": "code",
   "execution_count": null,
   "metadata": {},
   "outputs": [
    {
     "data": {
      "text/plain": [
       "[1.5022796926563657]"
      ]
     },
     "execution_count": 39,
     "metadata": {},
     "output_type": "execute_result"
    }
   ],
   "source": [
    "m.kl_divergence(wattsA, [wattsC], 300)"
   ]
  },
  {
   "cell_type": "code",
   "execution_count": null,
   "metadata": {},
   "outputs": [
    {
     "data": {
      "text/plain": [
       "[0.245, 0.283]"
      ]
     },
     "execution_count": 44,
     "metadata": {},
     "output_type": "execute_result"
    }
   ],
   "source": [
    "compute_kld(Bs,wattsB)"
   ]
  },
  {
   "cell_type": "markdown",
   "metadata": {},
   "source": [
    "## JS"
   ]
  },
  {
   "cell_type": "code",
   "execution_count": null,
   "metadata": {},
   "outputs": [
    {
     "data": {
      "text/plain": [
       "[0.249, 0.275]"
      ]
     },
     "execution_count": 43,
     "metadata": {},
     "output_type": "execute_result"
    }
   ],
   "source": [
    "compute_js(Bs,wattsB)"
   ]
  },
  {
   "cell_type": "markdown",
   "metadata": {},
   "source": [
    "## W_1"
   ]
  },
  {
   "cell_type": "code",
   "execution_count": null,
   "metadata": {},
   "outputs": [
    {
     "data": {
      "text/plain": [
       "[2.505, 3.588]"
      ]
     },
     "execution_count": 52,
     "metadata": {},
     "output_type": "execute_result"
    }
   ],
   "source": [
    "compute_w1(Bs,wattsB)"
   ]
  },
  {
   "cell_type": "markdown",
   "metadata": {},
   "source": [
    "# C"
   ]
  },
  {
   "cell_type": "code",
   "execution_count": 5,
   "metadata": {},
   "outputs": [],
   "source": [
    "C = pd.read_csv(\"datasets/C.csv\")\n",
    "wattsC = C['Watts'].values"
   ]
  },
  {
   "cell_type": "markdown",
   "metadata": {},
   "source": [
    "## KL-d"
   ]
  },
  {
   "cell_type": "code",
   "execution_count": null,
   "metadata": {},
   "outputs": [
    {
     "data": {
      "text/plain": [
       "[0.946, 1.02]"
      ]
     },
     "execution_count": 51,
     "metadata": {},
     "output_type": "execute_result"
    }
   ],
   "source": [
    "compute_kld(Cs,wattsC)"
   ]
  },
  {
   "cell_type": "markdown",
   "metadata": {},
   "source": [
    "## JS"
   ]
  },
  {
   "cell_type": "code",
   "execution_count": null,
   "metadata": {},
   "outputs": [
    {
     "data": {
      "text/plain": [
       "[0.469, 0.487]"
      ]
     },
     "execution_count": 45,
     "metadata": {},
     "output_type": "execute_result"
    }
   ],
   "source": [
    "compute_js(Cs,wattsC)"
   ]
  },
  {
   "cell_type": "markdown",
   "metadata": {},
   "source": [
    "## W_1"
   ]
  },
  {
   "cell_type": "code",
   "execution_count": null,
   "metadata": {},
   "outputs": [
    {
     "data": {
      "text/plain": [
       "[6.453, 7.121]"
      ]
     },
     "execution_count": 50,
     "metadata": {},
     "output_type": "execute_result"
    }
   ],
   "source": [
    "compute_w1(Cs,wattsC)"
   ]
  },
  {
   "cell_type": "code",
   "execution_count": null,
   "metadata": {},
   "outputs": [
    {
     "data": {
      "text/plain": [
       "array([ 213.56098153,  545.51480718,  466.54735864, ...,  849.40541403,\n",
       "        650.72824722, 1021.73125806])"
      ]
     },
     "execution_count": 7,
     "metadata": {},
     "output_type": "execute_result"
    }
   ],
   "source": [
    "wattsA"
   ]
  },
  {
   "cell_type": "code",
   "execution_count": null,
   "metadata": {},
   "outputs": [],
   "source": [
    "from fastdtw import fastdtw"
   ]
  },
  {
   "cell_type": "code",
   "execution_count": null,
   "metadata": {},
   "outputs": [],
   "source": [
    "distance, path = fastdtw(wattsA, wattsC, dist=euclidean)"
   ]
  },
  {
   "cell_type": "markdown",
   "metadata": {},
   "source": [
    "# Test KL-d"
   ]
  },
  {
   "cell_type": "code",
   "execution_count": 7,
   "metadata": {},
   "outputs": [],
   "source": [
    "originais = [wattsA, wattsB, wattsC]\n",
    "falsosA = [pd.read_csv(f)['Watts'].values for f in As]\n",
    "falsosB = [pd.read_csv(f)['Watts'].values for f in Bs]\n",
    "falsosC = [pd.read_csv(f)['Watts'].values for f in Cs]"
   ]
  },
  {
   "cell_type": "code",
   "execution_count": 49,
   "metadata": {},
   "outputs": [],
   "source": [
    "falsos = falsosA + falsosB + falsosC"
   ]
  },
  {
   "cell_type": "code",
   "execution_count": 109,
   "metadata": {},
   "outputs": [],
   "source": [
    "fA = [[wattsA, wattsB, wattsC], falsosA, falsosB, falsosC]\n",
    "fB = [[wattsA, wattsB, wattsC], falsosA, falsosB, falsosC]\n",
    "fC = [[wattsA, wattsB, wattsC], falsosA, falsosB, falsosC]"
   ]
  },
  {
   "cell_type": "code",
   "execution_count": 115,
   "metadata": {},
   "outputs": [
    {
     "name": "stdout",
     "output_type": "stream",
     "text": [
      "[0.   0.58 0.8 ]|[0.92 0.85 0.76]|[0.3  0.24]|[0.23 0.29]|"
     ]
    }
   ],
   "source": [
    "casas = [\"A\", \"B\", \"C\"]\n",
    "scoresA = []\n",
    "for i, f in enumerate(fA):\n",
    "    d1 = np.array(m.kl_divergence(originais[0], f, bins=20))\n",
    "    d2 = []\n",
    "    for a in f:\n",
    "        kld = m.kl_divergence(a, [originais[0]], bins=20)[0]\n",
    "        d2.append(kld)\n",
    "    d2 = np.array(d2)\n",
    "    scores = (d1+d2)/2\n",
    "    scoresA = scoresA + list(scores)    \n",
    "    print (scores.round(decimals=2), end=\"|\")    "
   ]
  },
  {
   "cell_type": "code",
   "execution_count": 120,
   "metadata": {},
   "outputs": [
    {
     "name": "stdout",
     "output_type": "stream",
     "text": [
      "[0.58 0.   0.1 ]|[1.91 2.01 1.72]|[0.28 0.4 ]|[0.63 0.72]|"
     ]
    }
   ],
   "source": [
    "casas = [\"A\", \"B\", \"C\"]\n",
    "scoresB = []\n",
    "for i, f in enumerate(fB):\n",
    "    d1 = np.array(m.kl_divergence(originais[1], f, bins=20))\n",
    "    d2 = []\n",
    "    for a in f:\n",
    "        kld = m.kl_divergence(a, [originais[1]], bins=20)[0]\n",
    "        d2.append(kld)\n",
    "    d2 = np.array(d2)\n",
    "    scores = (d1+d2)/2  \n",
    "    scoresB = scoresB + list(scores)\n",
    "    print (scores.round(decimals=2), end=\"|\")    "
   ]
  },
  {
   "cell_type": "code",
   "execution_count": 118,
   "metadata": {},
   "outputs": [
    {
     "name": "stdout",
     "output_type": "stream",
     "text": [
      "[0.8 0.1 0. ]|[2.57 2.66 2.36]|[0.42 0.6 ]|[0.96 1.08]|"
     ]
    }
   ],
   "source": [
    "casas = [\"A\", \"B\", \"C\"]\n",
    "scores = []\n",
    "for i, f in enumerate(fC):\n",
    "    d1 = np.array(m.kl_divergence(originais[2], f, bins=20))\n",
    "    d2 = []\n",
    "    for a in f:\n",
    "        kld = m.kl_divergence(a, [originais[2]], bins=20)[0]\n",
    "        d2.append(kld)\n",
    "    d2 = np.array(d2)\n",
    "    scores = (d1+d2)/2\n",
    "    scores = scores + list(scores)\n",
    "    print (scores.round(decimals=2), end=\"|\")    "
   ]
  },
  {
   "cell_type": "markdown",
   "metadata": {},
   "source": [
    "0.1, 0., 2.57, 2.66, 2.36, 0.42, 0.6, 0.96, 1.08"
   ]
  },
  {
   "cell_type": "code",
   "execution_count": 122,
   "metadata": {},
   "outputs": [],
   "source": [
    "dict_scores = {\n",
    "    'A':scoresA,\n",
    "    'B':scoresB,\n",
    "    'C':scores\n",
    "}\n",
    "dfscores = pd.DataFrame(dict_scores)"
   ]
  },
  {
   "cell_type": "code",
   "execution_count": 125,
   "metadata": {},
   "outputs": [],
   "source": [
    "dfscores = dfscores.T"
   ]
  },
  {
   "cell_type": "code",
   "execution_count": 127,
   "metadata": {},
   "outputs": [],
   "source": [
    "colunas = [\"A\", \"B\", \"C\", \"D\", \"E\", \"F\", \"G\", \"H\", \"I\", \"J\"]"
   ]
  },
  {
   "cell_type": "code",
   "execution_count": 128,
   "metadata": {},
   "outputs": [],
   "source": [
    "dfscores.columns = colunas"
   ]
  },
  {
   "cell_type": "code",
   "execution_count": 131,
   "metadata": {},
   "outputs": [
    {
     "data": {
      "text/html": [
       "<div>\n",
       "<style scoped>\n",
       "    .dataframe tbody tr th:only-of-type {\n",
       "        vertical-align: middle;\n",
       "    }\n",
       "\n",
       "    .dataframe tbody tr th {\n",
       "        vertical-align: top;\n",
       "    }\n",
       "\n",
       "    .dataframe thead th {\n",
       "        text-align: right;\n",
       "    }\n",
       "</style>\n",
       "<table border=\"1\" class=\"dataframe\">\n",
       "  <thead>\n",
       "    <tr style=\"text-align: right;\">\n",
       "      <th></th>\n",
       "      <th>A</th>\n",
       "      <th>B</th>\n",
       "      <th>C</th>\n",
       "    </tr>\n",
       "  </thead>\n",
       "  <tbody>\n",
       "    <tr>\n",
       "      <th>A</th>\n",
       "      <td>0.00</td>\n",
       "      <td>0.58</td>\n",
       "      <td>0.80</td>\n",
       "    </tr>\n",
       "    <tr>\n",
       "      <th>B</th>\n",
       "      <td>0.58</td>\n",
       "      <td>0.00</td>\n",
       "      <td>0.10</td>\n",
       "    </tr>\n",
       "    <tr>\n",
       "      <th>C</th>\n",
       "      <td>0.80</td>\n",
       "      <td>0.10</td>\n",
       "      <td>0.00</td>\n",
       "    </tr>\n",
       "    <tr>\n",
       "      <th>D</th>\n",
       "      <td>0.92</td>\n",
       "      <td>1.91</td>\n",
       "      <td>2.57</td>\n",
       "    </tr>\n",
       "    <tr>\n",
       "      <th>E</th>\n",
       "      <td>0.85</td>\n",
       "      <td>2.01</td>\n",
       "      <td>2.66</td>\n",
       "    </tr>\n",
       "    <tr>\n",
       "      <th>F</th>\n",
       "      <td>0.76</td>\n",
       "      <td>1.72</td>\n",
       "      <td>2.36</td>\n",
       "    </tr>\n",
       "    <tr>\n",
       "      <th>G</th>\n",
       "      <td>0.30</td>\n",
       "      <td>0.28</td>\n",
       "      <td>0.42</td>\n",
       "    </tr>\n",
       "    <tr>\n",
       "      <th>H</th>\n",
       "      <td>0.24</td>\n",
       "      <td>0.40</td>\n",
       "      <td>0.60</td>\n",
       "    </tr>\n",
       "    <tr>\n",
       "      <th>I</th>\n",
       "      <td>0.23</td>\n",
       "      <td>0.63</td>\n",
       "      <td>0.96</td>\n",
       "    </tr>\n",
       "    <tr>\n",
       "      <th>J</th>\n",
       "      <td>0.29</td>\n",
       "      <td>0.72</td>\n",
       "      <td>1.08</td>\n",
       "    </tr>\n",
       "  </tbody>\n",
       "</table>\n",
       "</div>"
      ],
      "text/plain": [
       "      A     B     C\n",
       "A  0.00  0.58  0.80\n",
       "B  0.58  0.00  0.10\n",
       "C  0.80  0.10  0.00\n",
       "D  0.92  1.91  2.57\n",
       "E  0.85  2.01  2.66\n",
       "F  0.76  1.72  2.36\n",
       "G  0.30  0.28  0.42\n",
       "H  0.24  0.40  0.60\n",
       "I  0.23  0.63  0.96\n",
       "J  0.29  0.72  1.08"
      ]
     },
     "execution_count": 131,
     "metadata": {},
     "output_type": "execute_result"
    }
   ],
   "source": [
    "dfscores.round(decimals=2).T"
   ]
  },
  {
   "cell_type": "code",
   "execution_count": 9,
   "metadata": {},
   "outputs": [
    {
     "data": {
      "text/plain": [
       "79490.6682222386"
      ]
     },
     "execution_count": 9,
     "metadata": {},
     "output_type": "execute_result"
    }
   ],
   "source": [
    "euclidean(wattsA, falsosA[0])"
   ]
  },
  {
   "cell_type": "markdown",
   "metadata": {},
   "source": [
    "# Predictive Score\n",
    "\n",
    "- Treinar uma RNN em cada casa\n",
    "- Salvar o modelo\n",
    "- Testar modelo em cada dataset sintético"
   ]
  },
  {
   "cell_type": "code",
   "execution_count": null,
   "metadata": {},
   "outputs": [],
   "source": [
    "# TODO: refazer códigos usando os datasets falsos como treino"
   ]
  },
  {
   "cell_type": "code",
   "execution_count": 12,
   "metadata": {},
   "outputs": [],
   "source": [
    "from metricas import utils as u"
   ]
  },
  {
   "cell_type": "code",
   "execution_count": 14,
   "metadata": {},
   "outputs": [],
   "source": [
    "def create_dataset(dataset, look_back=1):\n",
    "    dataX, dataY = [], []\n",
    "    for i in range(len(dataset)-look_back-1):\n",
    "        a = dataset[i:(i+look_back), :]\n",
    "        dataX.append(a)\n",
    "        dataY.append(dataset[i+look_back, :])\n",
    "    return np.array(dataX), np.array(dataY)"
   ]
  },
  {
   "cell_type": "code",
   "execution_count": 44,
   "metadata": {},
   "outputs": [],
   "source": [
    "wattsA = wattsA.reshape(-1,1)\n",
    "wattsB = wattsB.reshape(-1,1)\n",
    "wattsC = wattsC.reshape(-1,1)"
   ]
  },
  {
   "cell_type": "code",
   "execution_count": 100,
   "metadata": {},
   "outputs": [],
   "source": [
    "lookback = 60\n",
    "# trainX, trainY = create_dataset(train, lookback)\n",
    "X, y = create_dataset(wattsC, lookback)\n",
    "rnn = u.make_rnn(32, n_layers=2, n_steps=60, net_type='LSTM')\n",
    "scalerTrain = u.MinMaxScaler().fit(X.reshape(-1,1))\n",
    "trainX = scalerTrain.transform(X.reshape(-1,1)).reshape(X.shape)\n",
    "trainY = scalerTrain.transform(y.reshape(-1,1)).reshape(y.shape)\n",
    "opt = u.Adam(learning_rate=5e-4)\n",
    "rnn.compile(optimizer=opt, loss='mse')"
   ]
  },
  {
   "cell_type": "code",
   "execution_count": 101,
   "metadata": {},
   "outputs": [
    {
     "name": "stdout",
     "output_type": "stream",
     "text": [
      "Epoch 1/50\n",
      "131/131 [==============================] - 10s 50ms/step - loss: 0.0043\n",
      "Epoch 2/50\n",
      "131/131 [==============================] - 5s 39ms/step - loss: 0.0031\n",
      "Epoch 3/50\n",
      "131/131 [==============================] - 6s 47ms/step - loss: 0.0027\n",
      "Epoch 4/50\n",
      "131/131 [==============================] - 6s 45ms/step - loss: 0.0025\n",
      "Epoch 5/50\n",
      "131/131 [==============================] - 6s 44ms/step - loss: 0.0023\n",
      "Epoch 6/50\n",
      "131/131 [==============================] - 6s 46ms/step - loss: 0.0022\n",
      "Epoch 7/50\n",
      "131/131 [==============================] - 6s 46ms/step - loss: 0.0021\n",
      "Epoch 8/50\n",
      "131/131 [==============================] - 6s 47ms/step - loss: 0.0020\n",
      "Epoch 9/50\n",
      "131/131 [==============================] - 6s 48ms/step - loss: 0.0019\n",
      "Epoch 10/50\n",
      "131/131 [==============================] - 5s 42ms/step - loss: 0.0018\n",
      "Epoch 11/50\n",
      "131/131 [==============================] - 6s 42ms/step - loss: 0.0018\n",
      "Epoch 12/50\n",
      "131/131 [==============================] - 5s 37ms/step - loss: 0.0017\n",
      "Epoch 13/50\n",
      "131/131 [==============================] - 5s 39ms/step - loss: 0.0017\n",
      "Epoch 14/50\n",
      "131/131 [==============================] - 5s 36ms/step - loss: 0.0017\n",
      "Epoch 15/50\n",
      "131/131 [==============================] - 5s 38ms/step - loss: 0.0017\n",
      "Epoch 16/50\n",
      "131/131 [==============================] - 6s 46ms/step - loss: 0.0016\n",
      "Epoch 17/50\n",
      "131/131 [==============================] - 5s 42ms/step - loss: 0.0016\n",
      "Epoch 18/50\n",
      "131/131 [==============================] - 6s 42ms/step - loss: 0.0016\n",
      "Epoch 19/50\n",
      "131/131 [==============================] - 5s 37ms/step - loss: 0.0016\n",
      "Epoch 20/50\n",
      "131/131 [==============================] - 5s 40ms/step - loss: 0.0016\n",
      "Epoch 21/50\n",
      "131/131 [==============================] - 5s 37ms/step - loss: 0.0016\n",
      "Epoch 22/50\n",
      "131/131 [==============================] - 5s 38ms/step - loss: 0.0016\n",
      "Epoch 23/50\n",
      "131/131 [==============================] - 5s 38ms/step - loss: 0.0016\n",
      "Epoch 24/50\n",
      "131/131 [==============================] - 6s 45ms/step - loss: 0.0016\n",
      "Epoch 25/50\n",
      "131/131 [==============================] - 5s 40ms/step - loss: 0.0016\n",
      "Epoch 26/50\n",
      "131/131 [==============================] - 5s 40ms/step - loss: 0.0016\n",
      "Epoch 27/50\n",
      "131/131 [==============================] - 5s 40ms/step - loss: 0.0016\n",
      "Epoch 28/50\n",
      "131/131 [==============================] - 5s 40ms/step - loss: 0.0016\n",
      "Epoch 29/50\n",
      "131/131 [==============================] - 5s 38ms/step - loss: 0.0016\n",
      "Epoch 30/50\n",
      "131/131 [==============================] - 5s 39ms/step - loss: 0.0016\n",
      "Epoch 31/50\n",
      "131/131 [==============================] - 6s 44ms/step - loss: 0.0016\n",
      "Epoch 32/50\n",
      "131/131 [==============================] - 6s 45ms/step - loss: 0.0015\n",
      "Epoch 33/50\n",
      "131/131 [==============================] - 6s 46ms/step - loss: 0.0016\n",
      "Epoch 34/50\n",
      "131/131 [==============================] - 6s 42ms/step - loss: 0.0015\n",
      "Epoch 35/50\n",
      "131/131 [==============================] - 8s 62ms/step - loss: 0.0016\n",
      "Epoch 36/50\n",
      "131/131 [==============================] - 6s 47ms/step - loss: 0.0015\n"
     ]
    }
   ],
   "source": [
    "es = u.EarlyStopping(monitor='loss', patience=2)\n",
    "hist = rnn.fit(trainX, trainY, batch_size=60, epochs=50, callbacks=[es])"
   ]
  },
  {
   "cell_type": "code",
   "execution_count": 103,
   "metadata": {},
   "outputs": [],
   "source": [
    "rnn.save(\"models/casaC\", save_format=\"h5\")"
   ]
  },
  {
   "cell_type": "code",
   "execution_count": 35,
   "metadata": {},
   "outputs": [],
   "source": [
    "from tensorflow.keras.models import load_model"
   ]
  },
  {
   "cell_type": "code",
   "execution_count": 76,
   "metadata": {},
   "outputs": [],
   "source": [
    "rnnA = load_model(\"models/casaA\")\n",
    "rnnB = load_model(\"models/casaB\")\n",
    "rnnC = load_model(\"models/casaC\")"
   ]
  },
  {
   "cell_type": "code",
   "execution_count": 51,
   "metadata": {},
   "outputs": [],
   "source": [
    "from sklearn.metrics import mean_squared_error as mse"
   ]
  },
  {
   "cell_type": "code",
   "execution_count": 95,
   "metadata": {},
   "outputs": [],
   "source": [
    "def score(modelo):\n",
    "    modelo = \"models/\"+modelo\n",
    "    rnn = load_model(modelo)\n",
    "    scores = []\n",
    "    for f in u.tqdm(falsos, \"Computing score...\"):\n",
    "        lookback = 60\n",
    "        f = f.reshape(-1,1)\n",
    "        # trainX, trainY = create_dataset(train, lookback)\n",
    "        X_teste, y_teste = create_dataset(f, lookback)\n",
    "        scaler = u.MinMaxScaler().fit(X_teste.reshape(-1,1))\n",
    "        testX = scaler.transform(X_teste.reshape(-1,1)).reshape(X_teste.shape)\n",
    "        testY = scaler.transform(y_teste.reshape(-1,1)).reshape(y_teste.shape)\n",
    "        predY = rnn.predict(testX, verbose=0)\n",
    "        sc = u.mean_absolute_error(testY, predY)\n",
    "        scores.append(sc)\n",
    "    return np.array(scores)"
   ]
  },
  {
   "cell_type": "code",
   "execution_count": 96,
   "metadata": {},
   "outputs": [
    {
     "name": "stderr",
     "output_type": "stream",
     "text": [
      "Computing score...: 100%|██████████| 7/7 [00:18<00:00,  2.60s/it]\n"
     ]
    }
   ],
   "source": [
    "scoresA = score(\"casaA\")"
   ]
  },
  {
   "cell_type": "code",
   "execution_count": 98,
   "metadata": {},
   "outputs": [
    {
     "name": "stderr",
     "output_type": "stream",
     "text": [
      "Computing score...: 100%|██████████| 7/7 [00:17<00:00,  2.50s/it]\n"
     ]
    }
   ],
   "source": [
    "scoresB = score(\"casaB\")"
   ]
  },
  {
   "cell_type": "code",
   "execution_count": 109,
   "metadata": {},
   "outputs": [
    {
     "data": {
      "text/plain": [
       "(0.113, 0.061, 0.075)"
      ]
     },
     "execution_count": 109,
     "metadata": {},
     "output_type": "execute_result"
    }
   ],
   "source": [
    "scoresA[:3].mean().round(decimals=3), scoresA[3:5].mean().round(decimals=3), scoresA[5:].mean().round(decimals=3)"
   ]
  },
  {
   "cell_type": "code",
   "execution_count": 110,
   "metadata": {},
   "outputs": [
    {
     "data": {
      "text/plain": [
       "(0.11, 0.056, 0.077)"
      ]
     },
     "execution_count": 110,
     "metadata": {},
     "output_type": "execute_result"
    }
   ],
   "source": [
    "scoresB[:3].mean().round(decimals=3), scoresB[3:5].mean().round(decimals=3), scoresB[5:].mean().round(decimals=3)"
   ]
  },
  {
   "cell_type": "code",
   "execution_count": 105,
   "metadata": {},
   "outputs": [
    {
     "name": "stderr",
     "output_type": "stream",
     "text": [
      "Computing score...: 100%|██████████| 7/7 [00:21<00:00,  3.00s/it]\n"
     ]
    }
   ],
   "source": [
    "scoresC = score(\"casaC\")"
   ]
  },
  {
   "cell_type": "code",
   "execution_count": 111,
   "metadata": {},
   "outputs": [
    {
     "data": {
      "text/plain": [
       "(0.156, 0.06, 0.078)"
      ]
     },
     "execution_count": 111,
     "metadata": {},
     "output_type": "execute_result"
    }
   ],
   "source": [
    "scoresC[:3].mean().round(decimals=3), scoresC[3:5].mean().round(decimals=3), scoresC[5:].mean().round(decimals=3)"
   ]
  },
  {
   "cell_type": "code",
   "execution_count": 112,
   "metadata": {},
   "outputs": [],
   "source": [
    "rnnA = load_model(\"models/casaA\")"
   ]
  }
 ],
 "metadata": {
  "kernelspec": {
   "display_name": "gans_timeseries",
   "language": "python",
   "name": "python3"
  },
  "language_info": {
   "codemirror_mode": {
    "name": "ipython",
    "version": 3
   },
   "file_extension": ".py",
   "mimetype": "text/x-python",
   "name": "python",
   "nbconvert_exporter": "python",
   "pygments_lexer": "ipython3",
   "version": "3.7.16"
  }
 },
 "nbformat": 4,
 "nbformat_minor": 2
}
