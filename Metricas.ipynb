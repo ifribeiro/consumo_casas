{
 "cells": [
  {
   "cell_type": "code",
   "execution_count": 1,
   "metadata": {},
   "outputs": [],
   "source": [
    "import importlib\n",
    "from metricas import metricas as m\n",
    "importlib.reload(m)\n",
    "import pandas as pd\n",
    "import glob\n",
    "import numpy as np\n",
    "from scipy.spatial.distance import euclidean "
   ]
  },
  {
   "cell_type": "code",
   "execution_count": 2,
   "metadata": {},
   "outputs": [],
   "source": [
    "As = sorted(glob.glob(\"generated_csvs/A/*.csv\"))\n",
    "Bs = sorted(glob.glob(\"generated_csvs/B/*.csv\"))\n",
    "Cs = sorted(glob.glob(\"generated_csvs/C/*.csv\"))"
   ]
  },
  {
   "cell_type": "code",
   "execution_count": null,
   "metadata": {},
   "outputs": [],
   "source": [
    "def compute_kld(fakes, original, bins):\n",
    "    divergences = []\n",
    "    for fake in fakes:\n",
    "        df_a = pd.read_csv(fake)\n",
    "        values = df_a['Watts'].values\n",
    "        kld = m.kl_divergence(original, samples=[values], bins=bins)[0]\n",
    "        divergences.append(np.round(kld, decimals=3))\n",
    "    return divergences\n",
    "def compute_js(fakes, original, bins):\n",
    "    distances = []\n",
    "    for fake in fakes:\n",
    "        df_a = pd.read_csv(fake)\n",
    "        values = df_a['Watts'].values\n",
    "        js = m.js_divergence(original.reshape(-1,1), samples=[values.reshape(-1,1)], bins=bins)[0]\n",
    "        distances.append(np.round(js, decimals=3))\n",
    "    return distances\n",
    "\n",
    "def compute_w1(fakes, original):\n",
    "    distances = []\n",
    "    for fake in fakes:\n",
    "        df_a = pd.read_csv(fake)\n",
    "        values = df_a['Watts'].values\n",
    "        js = m.w_distance(original.reshape(-1,1), values.reshape(-1,1))[0]\n",
    "        distances.append(np.round(js, decimals=3))\n",
    "\n",
    "    return distances\n"
   ]
  },
  {
   "cell_type": "markdown",
   "metadata": {},
   "source": [
    "# A"
   ]
  },
  {
   "cell_type": "code",
   "execution_count": 3,
   "metadata": {},
   "outputs": [],
   "source": [
    "A = pd.read_csv(\"datasets/A.csv\")\n",
    "wattsA = A['Watts'].values"
   ]
  },
  {
   "cell_type": "markdown",
   "metadata": {},
   "source": [
    "## KL-d"
   ]
  },
  {
   "cell_type": "code",
   "execution_count": null,
   "metadata": {},
   "outputs": [
    {
     "data": {
      "text/plain": [
       "[0.793, 0.729, 0.662]"
      ]
     },
     "execution_count": 24,
     "metadata": {},
     "output_type": "execute_result"
    }
   ],
   "source": [
    "compute_kld(As, wattsA, bins=50)"
   ]
  },
  {
   "cell_type": "code",
   "execution_count": null,
   "metadata": {},
   "outputs": [],
   "source": []
  },
  {
   "cell_type": "markdown",
   "metadata": {},
   "source": [
    "## JS"
   ]
  },
  {
   "cell_type": "code",
   "execution_count": null,
   "metadata": {},
   "outputs": [
    {
     "data": {
      "text/plain": [
       "[0.406, 0.395, 0.376]"
      ]
     },
     "execution_count": 38,
     "metadata": {},
     "output_type": "execute_result"
    }
   ],
   "source": [
    "compute_js(As,wattsA, 10)"
   ]
  },
  {
   "cell_type": "code",
   "execution_count": null,
   "metadata": {},
   "outputs": [
    {
     "data": {
      "text/plain": [
       "[0.441, 0.426, 0.408]"
      ]
     },
     "execution_count": 25,
     "metadata": {},
     "output_type": "execute_result"
    }
   ],
   "source": [
    "compute_js(As,wattsA)"
   ]
  },
  {
   "cell_type": "markdown",
   "metadata": {},
   "source": [
    "## $W_1$"
   ]
  },
  {
   "cell_type": "code",
   "execution_count": null,
   "metadata": {},
   "outputs": [
    {
     "data": {
      "text/plain": [
       "[11.093, 10.835, 9.979]"
      ]
     },
     "execution_count": 27,
     "metadata": {},
     "output_type": "execute_result"
    }
   ],
   "source": [
    "compute_w1(As,wattsA)"
   ]
  },
  {
   "cell_type": "markdown",
   "metadata": {},
   "source": [
    "# B"
   ]
  },
  {
   "cell_type": "markdown",
   "metadata": {},
   "source": [
    "## KL-d"
   ]
  },
  {
   "cell_type": "code",
   "execution_count": 4,
   "metadata": {},
   "outputs": [],
   "source": [
    "B = pd.read_csv(\"datasets/B.csv\")\n",
    "wattsB = B['Watts'].values"
   ]
  },
  {
   "cell_type": "code",
   "execution_count": null,
   "metadata": {},
   "outputs": [
    {
     "data": {
      "text/plain": [
       "[1.5022796926563657]"
      ]
     },
     "execution_count": 39,
     "metadata": {},
     "output_type": "execute_result"
    }
   ],
   "source": [
    "m.kl_divergence(wattsA, [wattsC], 300)"
   ]
  },
  {
   "cell_type": "code",
   "execution_count": null,
   "metadata": {},
   "outputs": [
    {
     "data": {
      "text/plain": [
       "[0.245, 0.283]"
      ]
     },
     "execution_count": 44,
     "metadata": {},
     "output_type": "execute_result"
    }
   ],
   "source": [
    "compute_kld(Bs,wattsB)"
   ]
  },
  {
   "cell_type": "markdown",
   "metadata": {},
   "source": [
    "## JS"
   ]
  },
  {
   "cell_type": "code",
   "execution_count": null,
   "metadata": {},
   "outputs": [
    {
     "data": {
      "text/plain": [
       "[0.249, 0.275]"
      ]
     },
     "execution_count": 43,
     "metadata": {},
     "output_type": "execute_result"
    }
   ],
   "source": [
    "compute_js(Bs,wattsB)"
   ]
  },
  {
   "cell_type": "markdown",
   "metadata": {},
   "source": [
    "## W_1"
   ]
  },
  {
   "cell_type": "code",
   "execution_count": null,
   "metadata": {},
   "outputs": [
    {
     "data": {
      "text/plain": [
       "[2.505, 3.588]"
      ]
     },
     "execution_count": 52,
     "metadata": {},
     "output_type": "execute_result"
    }
   ],
   "source": [
    "compute_w1(Bs,wattsB)"
   ]
  },
  {
   "cell_type": "markdown",
   "metadata": {},
   "source": [
    "# C"
   ]
  },
  {
   "cell_type": "code",
   "execution_count": 5,
   "metadata": {},
   "outputs": [],
   "source": [
    "C = pd.read_csv(\"datasets/C.csv\")\n",
    "wattsC = C['Watts'].values"
   ]
  },
  {
   "cell_type": "markdown",
   "metadata": {},
   "source": [
    "## KL-d"
   ]
  },
  {
   "cell_type": "code",
   "execution_count": null,
   "metadata": {},
   "outputs": [
    {
     "data": {
      "text/plain": [
       "[0.946, 1.02]"
      ]
     },
     "execution_count": 51,
     "metadata": {},
     "output_type": "execute_result"
    }
   ],
   "source": [
    "compute_kld(Cs,wattsC)"
   ]
  },
  {
   "cell_type": "markdown",
   "metadata": {},
   "source": [
    "## JS"
   ]
  },
  {
   "cell_type": "code",
   "execution_count": null,
   "metadata": {},
   "outputs": [
    {
     "data": {
      "text/plain": [
       "[0.469, 0.487]"
      ]
     },
     "execution_count": 45,
     "metadata": {},
     "output_type": "execute_result"
    }
   ],
   "source": [
    "compute_js(Cs,wattsC)"
   ]
  },
  {
   "cell_type": "markdown",
   "metadata": {},
   "source": [
    "## W_1"
   ]
  },
  {
   "cell_type": "code",
   "execution_count": null,
   "metadata": {},
   "outputs": [
    {
     "data": {
      "text/plain": [
       "[6.453, 7.121]"
      ]
     },
     "execution_count": 50,
     "metadata": {},
     "output_type": "execute_result"
    }
   ],
   "source": [
    "compute_w1(Cs,wattsC)"
   ]
  },
  {
   "cell_type": "code",
   "execution_count": null,
   "metadata": {},
   "outputs": [
    {
     "data": {
      "text/plain": [
       "array([ 213.56098153,  545.51480718,  466.54735864, ...,  849.40541403,\n",
       "        650.72824722, 1021.73125806])"
      ]
     },
     "execution_count": 7,
     "metadata": {},
     "output_type": "execute_result"
    }
   ],
   "source": [
    "wattsA"
   ]
  },
  {
   "cell_type": "code",
   "execution_count": null,
   "metadata": {},
   "outputs": [],
   "source": [
    "from fastdtw import fastdtw"
   ]
  },
  {
   "cell_type": "code",
   "execution_count": null,
   "metadata": {},
   "outputs": [],
   "source": [
    "distance, path = fastdtw(wattsA, wattsC, dist=euclidean)"
   ]
  },
  {
   "cell_type": "markdown",
   "metadata": {},
   "source": [
    "# Test KL-d"
   ]
  },
  {
   "cell_type": "code",
   "execution_count": 7,
   "metadata": {},
   "outputs": [],
   "source": [
    "originais = [wattsA, wattsB, wattsC]\n",
    "falsosA = [pd.read_csv(f)['Watts'].values for f in As]\n",
    "falsosB = [pd.read_csv(f)['Watts'].values for f in Bs]\n",
    "falsosC = [pd.read_csv(f)['Watts'].values for f in Cs]"
   ]
  },
  {
   "cell_type": "code",
   "execution_count": 49,
   "metadata": {},
   "outputs": [],
   "source": [
    "falsos = falsosA + falsosB + falsosC"
   ]
  },
  {
   "cell_type": "code",
   "execution_count": 109,
   "metadata": {},
   "outputs": [],
   "source": [
    "fA = [[wattsA, wattsB, wattsC], falsosA, falsosB, falsosC]\n",
    "fB = [[wattsA, wattsB, wattsC], falsosA, falsosB, falsosC]\n",
    "fC = [[wattsA, wattsB, wattsC], falsosA, falsosB, falsosC]"
   ]
  },
  {
   "cell_type": "code",
   "execution_count": 115,
   "metadata": {},
   "outputs": [
    {
     "name": "stdout",
     "output_type": "stream",
     "text": [
      "[0.   0.58 0.8 ]|[0.92 0.85 0.76]|[0.3  0.24]|[0.23 0.29]|"
     ]
    }
   ],
   "source": [
    "casas = [\"A\", \"B\", \"C\"]\n",
    "scoresA = []\n",
    "for i, f in enumerate(fA):\n",
    "    d1 = np.array(m.kl_divergence(originais[0], f, bins=20))\n",
    "    d2 = []\n",
    "    for a in f:\n",
    "        kld = m.kl_divergence(a, [originais[0]], bins=20)[0]\n",
    "        d2.append(kld)\n",
    "    d2 = np.array(d2)\n",
    "    scores = (d1+d2)/2\n",
    "    scoresA = scoresA + list(scores)    \n",
    "    print (scores.round(decimals=2), end=\"|\")    "
   ]
  },
  {
   "cell_type": "code",
   "execution_count": 120,
   "metadata": {},
   "outputs": [
    {
     "name": "stdout",
     "output_type": "stream",
     "text": [
      "[0.58 0.   0.1 ]|[1.91 2.01 1.72]|[0.28 0.4 ]|[0.63 0.72]|"
     ]
    }
   ],
   "source": [
    "casas = [\"A\", \"B\", \"C\"]\n",
    "scoresB = []\n",
    "for i, f in enumerate(fB):\n",
    "    d1 = np.array(m.kl_divergence(originais[1], f, bins=20))\n",
    "    d2 = []\n",
    "    for a in f:\n",
    "        kld = m.kl_divergence(a, [originais[1]], bins=20)[0]\n",
    "        d2.append(kld)\n",
    "    d2 = np.array(d2)\n",
    "    scores = (d1+d2)/2  \n",
    "    scoresB = scoresB + list(scores)\n",
    "    print (scores.round(decimals=2), end=\"|\")    "
   ]
  },
  {
   "cell_type": "code",
   "execution_count": 118,
   "metadata": {},
   "outputs": [
    {
     "name": "stdout",
     "output_type": "stream",
     "text": [
      "[0.8 0.1 0. ]|[2.57 2.66 2.36]|[0.42 0.6 ]|[0.96 1.08]|"
     ]
    }
   ],
   "source": [
    "casas = [\"A\", \"B\", \"C\"]\n",
    "scores = []\n",
    "for i, f in enumerate(fC):\n",
    "    d1 = np.array(m.kl_divergence(originais[2], f, bins=20))\n",
    "    d2 = []\n",
    "    for a in f:\n",
    "        kld = m.kl_divergence(a, [originais[2]], bins=20)[0]\n",
    "        d2.append(kld)\n",
    "    d2 = np.array(d2)\n",
    "    scores = (d1+d2)/2\n",
    "    scores = scores + list(scores)\n",
    "    print (scores.round(decimals=2), end=\"|\")    "
   ]
  },
  {
   "cell_type": "markdown",
   "metadata": {},
   "source": [
    "0.1, 0., 2.57, 2.66, 2.36, 0.42, 0.6, 0.96, 1.08"
   ]
  },
  {
   "cell_type": "code",
   "execution_count": 122,
   "metadata": {},
   "outputs": [],
   "source": [
    "dict_scores = {\n",
    "    'A':scoresA,\n",
    "    'B':scoresB,\n",
    "    'C':scores\n",
    "}\n",
    "dfscores = pd.DataFrame(dict_scores)"
   ]
  },
  {
   "cell_type": "code",
   "execution_count": 125,
   "metadata": {},
   "outputs": [],
   "source": [
    "dfscores = dfscores.T"
   ]
  },
  {
   "cell_type": "code",
   "execution_count": 43,
   "metadata": {},
   "outputs": [],
   "source": [
    "colunas = [\"D\", \"E\", \"F\", \"G\", \"H\", \"I\", \"J\"]"
   ]
  },
  {
   "cell_type": "code",
   "execution_count": 128,
   "metadata": {},
   "outputs": [],
   "source": [
    "dfscores.columns = colunas"
   ]
  },
  {
   "cell_type": "code",
   "execution_count": 131,
   "metadata": {},
   "outputs": [
    {
     "data": {
      "text/html": [
       "<div>\n",
       "<style scoped>\n",
       "    .dataframe tbody tr th:only-of-type {\n",
       "        vertical-align: middle;\n",
       "    }\n",
       "\n",
       "    .dataframe tbody tr th {\n",
       "        vertical-align: top;\n",
       "    }\n",
       "\n",
       "    .dataframe thead th {\n",
       "        text-align: right;\n",
       "    }\n",
       "</style>\n",
       "<table border=\"1\" class=\"dataframe\">\n",
       "  <thead>\n",
       "    <tr style=\"text-align: right;\">\n",
       "      <th></th>\n",
       "      <th>A</th>\n",
       "      <th>B</th>\n",
       "      <th>C</th>\n",
       "    </tr>\n",
       "  </thead>\n",
       "  <tbody>\n",
       "    <tr>\n",
       "      <th>A</th>\n",
       "      <td>0.00</td>\n",
       "      <td>0.58</td>\n",
       "      <td>0.80</td>\n",
       "    </tr>\n",
       "    <tr>\n",
       "      <th>B</th>\n",
       "      <td>0.58</td>\n",
       "      <td>0.00</td>\n",
       "      <td>0.10</td>\n",
       "    </tr>\n",
       "    <tr>\n",
       "      <th>C</th>\n",
       "      <td>0.80</td>\n",
       "      <td>0.10</td>\n",
       "      <td>0.00</td>\n",
       "    </tr>\n",
       "    <tr>\n",
       "      <th>D</th>\n",
       "      <td>0.92</td>\n",
       "      <td>1.91</td>\n",
       "      <td>2.57</td>\n",
       "    </tr>\n",
       "    <tr>\n",
       "      <th>E</th>\n",
       "      <td>0.85</td>\n",
       "      <td>2.01</td>\n",
       "      <td>2.66</td>\n",
       "    </tr>\n",
       "    <tr>\n",
       "      <th>F</th>\n",
       "      <td>0.76</td>\n",
       "      <td>1.72</td>\n",
       "      <td>2.36</td>\n",
       "    </tr>\n",
       "    <tr>\n",
       "      <th>G</th>\n",
       "      <td>0.30</td>\n",
       "      <td>0.28</td>\n",
       "      <td>0.42</td>\n",
       "    </tr>\n",
       "    <tr>\n",
       "      <th>H</th>\n",
       "      <td>0.24</td>\n",
       "      <td>0.40</td>\n",
       "      <td>0.60</td>\n",
       "    </tr>\n",
       "    <tr>\n",
       "      <th>I</th>\n",
       "      <td>0.23</td>\n",
       "      <td>0.63</td>\n",
       "      <td>0.96</td>\n",
       "    </tr>\n",
       "    <tr>\n",
       "      <th>J</th>\n",
       "      <td>0.29</td>\n",
       "      <td>0.72</td>\n",
       "      <td>1.08</td>\n",
       "    </tr>\n",
       "  </tbody>\n",
       "</table>\n",
       "</div>"
      ],
      "text/plain": [
       "      A     B     C\n",
       "A  0.00  0.58  0.80\n",
       "B  0.58  0.00  0.10\n",
       "C  0.80  0.10  0.00\n",
       "D  0.92  1.91  2.57\n",
       "E  0.85  2.01  2.66\n",
       "F  0.76  1.72  2.36\n",
       "G  0.30  0.28  0.42\n",
       "H  0.24  0.40  0.60\n",
       "I  0.23  0.63  0.96\n",
       "J  0.29  0.72  1.08"
      ]
     },
     "execution_count": 131,
     "metadata": {},
     "output_type": "execute_result"
    }
   ],
   "source": [
    "dfscores.round(decimals=2).T"
   ]
  },
  {
   "cell_type": "code",
   "execution_count": 9,
   "metadata": {},
   "outputs": [
    {
     "data": {
      "text/plain": [
       "79490.6682222386"
      ]
     },
     "execution_count": 9,
     "metadata": {},
     "output_type": "execute_result"
    }
   ],
   "source": [
    "euclidean(wattsA, falsosA[0])"
   ]
  },
  {
   "cell_type": "markdown",
   "metadata": {},
   "source": [
    "# Predictive Score\n",
    "\n",
    "- Treinar uma RNN em cada casa\n",
    "- Salvar o modelo\n",
    "- Testar modelo em cada dataset sintético"
   ]
  },
  {
   "cell_type": "code",
   "execution_count": null,
   "metadata": {},
   "outputs": [],
   "source": [
    "# TODO: refazer códigos usando os datasets falsos como treino"
   ]
  },
  {
   "cell_type": "code",
   "execution_count": 3,
   "metadata": {},
   "outputs": [
    {
     "name": "stderr",
     "output_type": "stream",
     "text": [
      "2023-10-20 18:57:59.722106: I tensorflow/core/platform/cpu_feature_guard.cc:193] This TensorFlow binary is optimized with oneAPI Deep Neural Network Library (oneDNN) to use the following CPU instructions in performance-critical operations:  AVX2 AVX512F AVX512_VNNI FMA\n",
      "To enable them in other operations, rebuild TensorFlow with the appropriate compiler flags.\n",
      "2023-10-20 18:57:59.959819: I tensorflow/core/util/util.cc:169] oneDNN custom operations are on. You may see slightly different numerical results due to floating-point round-off errors from different computation orders. To turn them off, set the environment variable `TF_ENABLE_ONEDNN_OPTS=0`.\n",
      "2023-10-20 18:57:59.965778: W tensorflow/stream_executor/platform/default/dso_loader.cc:64] Could not load dynamic library 'libcudart.so.11.0'; dlerror: libcudart.so.11.0: cannot open shared object file: No such file or directory\n",
      "2023-10-20 18:57:59.965798: I tensorflow/stream_executor/cuda/cudart_stub.cc:29] Ignore above cudart dlerror if you do not have a GPU set up on your machine.\n",
      "2023-10-20 18:58:00.000113: E tensorflow/stream_executor/cuda/cuda_blas.cc:2981] Unable to register cuBLAS factory: Attempting to register factory for plugin cuBLAS when one has already been registered\n",
      "2023-10-20 18:58:00.996887: W tensorflow/stream_executor/platform/default/dso_loader.cc:64] Could not load dynamic library 'libnvinfer.so.7'; dlerror: libnvinfer.so.7: cannot open shared object file: No such file or directory\n",
      "2023-10-20 18:58:00.997025: W tensorflow/stream_executor/platform/default/dso_loader.cc:64] Could not load dynamic library 'libnvinfer_plugin.so.7'; dlerror: libnvinfer_plugin.so.7: cannot open shared object file: No such file or directory\n",
      "2023-10-20 18:58:00.997033: W tensorflow/compiler/tf2tensorrt/utils/py_utils.cc:38] TF-TRT Warning: Cannot dlopen some TensorRT libraries. If you would like to use Nvidia GPU with TensorRT, please make sure the missing libraries mentioned above are installed properly.\n"
     ]
    }
   ],
   "source": [
    "from metricas import utils as u"
   ]
  },
  {
   "cell_type": "code",
   "execution_count": 4,
   "metadata": {},
   "outputs": [],
   "source": [
    "def create_dataset(dataset, look_back=1):\n",
    "    dataX, dataY = [], []\n",
    "    for i in range(len(dataset)-look_back-1):\n",
    "        a = dataset[i:(i+look_back), :]\n",
    "        dataX.append(a)\n",
    "        dataY.append(dataset[i+look_back, :])\n",
    "    return np.array(dataX), np.array(dataY)"
   ]
  },
  {
   "cell_type": "code",
   "execution_count": 5,
   "metadata": {},
   "outputs": [],
   "source": [
    "A = pd.read_csv(\"datasets/A.csv\")\n",
    "B = pd.read_csv(\"datasets/B.csv\")\n",
    "C = pd.read_csv(\"datasets/C.csv\")\n",
    "\n",
    "wattsA = A['Watts'].values\n",
    "wattsB = B['Watts'].values\n",
    "wattsC = C['Watts'].values\n",
    "\n",
    "wattsA = wattsA.reshape(-1,1)\n",
    "wattsB = wattsB.reshape(-1,1)\n",
    "wattsC = wattsC.reshape(-1,1)"
   ]
  },
  {
   "cell_type": "code",
   "execution_count": 10,
   "metadata": {},
   "outputs": [],
   "source": [
    "def save_models(casa, arrays_csvs):\n",
    "    lookback = 60\n",
    "    for i, a in enumerate(u.tqdm(arrays_csvs)):\n",
    "        fake = pd.read_csv(a)[\"Watts\"].values\n",
    "        fake = fake.reshape(-1,1)\n",
    "        X, y = create_dataset(fake, lookback)\n",
    "        rnn = u.make_rnn(32, n_layers=2, n_steps=60, net_type='LSTM')\n",
    "        scalerTrain = u.MinMaxScaler().fit(X.reshape(-1,1))\n",
    "        trainX = scalerTrain.transform(X.reshape(-1,1)).reshape(X.shape)\n",
    "        trainY = scalerTrain.transform(y.reshape(-1,1)).reshape(y.shape)\n",
    "        opt = u.Adam(learning_rate=5e-4)\n",
    "        rnn.compile(optimizer=opt, loss='mse')\n",
    "        es = u.EarlyStopping(monitor='loss', patience=2)\n",
    "        hist = rnn.fit(trainX, trainY, batch_size=60, epochs=50, callbacks=[es], verbose=0)\n",
    "        rnn.save(f\"models/{casa}_{i}\", save_format=\"h5\")"
   ]
  },
  {
   "cell_type": "code",
   "execution_count": 13,
   "metadata": {},
   "outputs": [
    {
     "name": "stderr",
     "output_type": "stream",
     "text": [
      "100%|██████████| 2/2 [05:13<00:00, 157.00s/it]\n"
     ]
    }
   ],
   "source": [
    "save_models(\"casaC\", Cs)"
   ]
  },
  {
   "cell_type": "code",
   "execution_count": 7,
   "metadata": {},
   "outputs": [
    {
     "data": {
      "text/plain": [
       "['generated_csvs/A/A_0.csv',\n",
       " 'generated_csvs/A/A_1.csv',\n",
       " 'generated_csvs/A/A_2.csv']"
      ]
     },
     "execution_count": 7,
     "metadata": {},
     "output_type": "execute_result"
    }
   ],
   "source": [
    "As"
   ]
  },
  {
   "cell_type": "code",
   "execution_count": 27,
   "metadata": {},
   "outputs": [],
   "source": [
    "from tensorflow.keras.models import load_model\n",
    "from sklearn.metrics import mean_squared_error as mse"
   ]
  },
  {
   "cell_type": "code",
   "execution_count": 76,
   "metadata": {},
   "outputs": [],
   "source": [
    "rnnA = load_model(\"models/casaA\")\n",
    "rnnB = load_model(\"models/casaB\")\n",
    "rnnC = load_model(\"models/casaC\")"
   ]
  },
  {
   "cell_type": "code",
   "execution_count": 28,
   "metadata": {},
   "outputs": [],
   "source": [
    "def score(modelos, originais=[]):\n",
    "    for m in modelos:    \n",
    "        rnn = load_model(m)\n",
    "        scores = []\n",
    "        lookback = 60\n",
    "        for f in u.tqdm(originais, desc=f\"Computing scores for model {m}\"):            \n",
    "            f = f.reshape(-1,1)\n",
    "            # trainX, trainY = create_dataset(train, lookback)\n",
    "            X_teste, y_teste = create_dataset(f, lookback)\n",
    "            scaler = u.MinMaxScaler().fit(X_teste.reshape(-1,1))\n",
    "            testX = scaler.transform(X_teste.reshape(-1,1)).reshape(X_teste.shape)\n",
    "            testY = scaler.transform(y_teste.reshape(-1,1)).reshape(y_teste.shape)\n",
    "            predY = rnn.predict(testX, verbose=0)\n",
    "            sc = u.mean_absolute_error(testY, predY)\n",
    "            scores.append(sc)\n",
    "        nm_modelo = m.split(\"/\")[-1]\n",
    "        scores = np.array(scores)\n",
    "        np.save(f\"scores/{nm_modelo}.npy\", scores)"
   ]
  },
  {
   "cell_type": "code",
   "execution_count": 25,
   "metadata": {},
   "outputs": [],
   "source": [
    "modelos = sorted(glob.glob(\"models/*\"))"
   ]
  },
  {
   "cell_type": "code",
   "execution_count": 29,
   "metadata": {},
   "outputs": [
    {
     "name": "stderr",
     "output_type": "stream",
     "text": [
      "Computing scores for model models/casaA_0: 100%|██████████| 3/3 [00:14<00:00,  4.74s/it]\n",
      "Computing scores for model models/casaA_1: 100%|██████████| 3/3 [00:14<00:00,  4.98s/it]\n",
      "Computing scores for model models/casaA_2: 100%|██████████| 3/3 [00:18<00:00,  6.08s/it]\n",
      "Computing scores for model models/casaB_0: 100%|██████████| 3/3 [00:14<00:00,  4.86s/it]\n",
      "Computing scores for model models/casaB_1: 100%|██████████| 3/3 [00:15<00:00,  5.05s/it]\n",
      "Computing scores for model models/casaC_0: 100%|██████████| 3/3 [00:13<00:00,  4.52s/it]\n",
      "Computing scores for model models/casaC_1: 100%|██████████| 3/3 [00:15<00:00,  5.09s/it]\n"
     ]
    }
   ],
   "source": [
    "score(modelos, originais=[wattsA, wattsB, wattsC])"
   ]
  },
  {
   "cell_type": "code",
   "execution_count": 33,
   "metadata": {},
   "outputs": [],
   "source": [
    "f_scores = sorted(glob.glob(\"scores/*.npy\"))"
   ]
  },
  {
   "cell_type": "code",
   "execution_count": 38,
   "metadata": {},
   "outputs": [],
   "source": [
    "vetor_scores = []\n",
    "for f in f_scores:\n",
    "    a = np.load(f)\n",
    "    a = a.round(decimals=3)\n",
    "    vetor_scores.append(a)"
   ]
  },
  {
   "cell_type": "code",
   "execution_count": 40,
   "metadata": {},
   "outputs": [],
   "source": [
    "df_scores = pd.DataFrame(vetor_scores)"
   ]
  },
  {
   "cell_type": "code",
   "execution_count": 44,
   "metadata": {},
   "outputs": [
    {
     "data": {
      "text/plain": [
       "['D', 'E', 'F', 'G', 'H', 'I', 'J']"
      ]
     },
     "execution_count": 44,
     "metadata": {},
     "output_type": "execute_result"
    }
   ],
   "source": [
    "colunas"
   ]
  },
  {
   "cell_type": "code",
   "execution_count": 45,
   "metadata": {},
   "outputs": [],
   "source": [
    "df_scores.columns = [\"A\", \"B\", \"C\"]"
   ]
  },
  {
   "cell_type": "code",
   "execution_count": 48,
   "metadata": {},
   "outputs": [],
   "source": [
    "df_scores['index'] = colunas"
   ]
  },
  {
   "cell_type": "code",
   "execution_count": 52,
   "metadata": {},
   "outputs": [],
   "source": [
    "df_scores.set_index(keys='index', inplace=True)"
   ]
  },
  {
   "cell_type": "code",
   "execution_count": 67,
   "metadata": {},
   "outputs": [
    {
     "data": {
      "text/plain": [
       "A    0.0603\n",
       "B    0.0663\n",
       "C    0.0633\n",
       "dtype: float64"
      ]
     },
     "execution_count": 67,
     "metadata": {},
     "output_type": "execute_result"
    }
   ],
   "source": [
    "df_scores.loc[['D', 'E', 'F']].mean(axis=0).round(decimals=4)"
   ]
  },
  {
   "cell_type": "code",
   "execution_count": 68,
   "metadata": {},
   "outputs": [
    {
     "data": {
      "text/plain": [
       "A    0.0455\n",
       "B    0.0360\n",
       "C    0.0250\n",
       "dtype: float64"
      ]
     },
     "execution_count": 68,
     "metadata": {},
     "output_type": "execute_result"
    }
   ],
   "source": [
    "df_scores.loc[['G', 'H']].mean(axis=0).round(decimals=4)"
   ]
  },
  {
   "cell_type": "code",
   "execution_count": 69,
   "metadata": {},
   "outputs": [
    {
     "data": {
      "text/plain": [
       "A    0.0480\n",
       "B    0.0540\n",
       "C    0.0475\n",
       "dtype: float64"
      ]
     },
     "execution_count": 69,
     "metadata": {},
     "output_type": "execute_result"
    }
   ],
   "source": [
    "df_scores.loc[['I', 'J']].mean(axis=0).round(decimals=4)"
   ]
  }
 ],
 "metadata": {
  "kernelspec": {
   "display_name": "gans_trajsp3",
   "language": "python",
   "name": "gans_trajsp3"
  },
  "language_info": {
   "codemirror_mode": {
    "name": "ipython",
    "version": 3
   },
   "file_extension": ".py",
   "mimetype": "text/x-python",
   "name": "python",
   "nbconvert_exporter": "python",
   "pygments_lexer": "ipython3",
   "version": "3.7.3"
  }
 },
 "nbformat": 4,
 "nbformat_minor": 2
}
