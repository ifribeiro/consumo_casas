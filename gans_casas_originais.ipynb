{
 "cells": [
  {
   "cell_type": "code",
   "execution_count": 1,
   "metadata": {},
   "outputs": [],
   "source": [
    "import pandas as pd\n",
    "import numpy as np\n",
    "import plotting as p\n",
    "import matplotlib.pyplot as plt"
   ]
  },
  {
   "cell_type": "code",
   "execution_count": 2,
   "metadata": {},
   "outputs": [],
   "source": [
    "# A_orig = pd.read_csv(\"datasets/originais/Dataset_PreProcessed_A.csv\", parse_dates=[0])"
   ]
  },
  {
   "cell_type": "code",
   "execution_count": 3,
   "metadata": {},
   "outputs": [
    {
     "data": {
      "text/html": [
       "<div>\n",
       "<style scoped>\n",
       "    .dataframe tbody tr th:only-of-type {\n",
       "        vertical-align: middle;\n",
       "    }\n",
       "\n",
       "    .dataframe tbody tr th {\n",
       "        vertical-align: top;\n",
       "    }\n",
       "\n",
       "    .dataframe thead th {\n",
       "        text-align: right;\n",
       "    }\n",
       "</style>\n",
       "<table border=\"1\" class=\"dataframe\">\n",
       "  <thead>\n",
       "    <tr style=\"text-align: right;\">\n",
       "      <th></th>\n",
       "      <th>TimestampUTC</th>\n",
       "      <th>Watts</th>\n",
       "    </tr>\n",
       "  </thead>\n",
       "  <tbody>\n",
       "    <tr>\n",
       "      <th>0</th>\n",
       "      <td>2012-04-30 00:00:00</td>\n",
       "      <td>0.0</td>\n",
       "    </tr>\n",
       "    <tr>\n",
       "      <th>1</th>\n",
       "      <td>2012-04-30 00:01:00</td>\n",
       "      <td>0.0</td>\n",
       "    </tr>\n",
       "    <tr>\n",
       "      <th>2</th>\n",
       "      <td>2012-04-30 00:02:00</td>\n",
       "      <td>0.0</td>\n",
       "    </tr>\n",
       "    <tr>\n",
       "      <th>3</th>\n",
       "      <td>2012-04-30 00:03:00</td>\n",
       "      <td>0.0</td>\n",
       "    </tr>\n",
       "    <tr>\n",
       "      <th>4</th>\n",
       "      <td>2012-04-30 00:04:00</td>\n",
       "      <td>0.0</td>\n",
       "    </tr>\n",
       "  </tbody>\n",
       "</table>\n",
       "</div>"
      ],
      "text/plain": [
       "         TimestampUTC  Watts\n",
       "0 2012-04-30 00:00:00    0.0\n",
       "1 2012-04-30 00:01:00    0.0\n",
       "2 2012-04-30 00:02:00    0.0\n",
       "3 2012-04-30 00:03:00    0.0\n",
       "4 2012-04-30 00:04:00    0.0"
      ]
     },
     "execution_count": 3,
     "metadata": {},
     "output_type": "execute_result"
    }
   ],
   "source": [
    "A_orig.head()"
   ]
  },
  {
   "cell_type": "code",
   "execution_count": 141,
   "metadata": {},
   "outputs": [],
   "source": [
    "A_orig = A_orig[['TimestampUTC', 'Watts']]"
   ]
  },
  {
   "cell_type": "code",
   "execution_count": null,
   "metadata": {},
   "outputs": [],
   "source": []
  },
  {
   "cell_type": "code",
   "execution_count": 7,
   "metadata": {},
   "outputs": [],
   "source": [
    "tdelta_mes = p.datetime.timedelta(days=30)\n",
    "ultimodia = A_orig['TimestampUTC'].iloc[-1]\n",
    "primeirodia = A_orig['TimestampUTC'].iloc[0]\n",
    "diasfiltro = [primeirodia]\n",
    "while primeirodia<=ultimodia:\n",
    "    primeirodia+=tdelta_mes\n",
    "    diasfiltro.append(primeirodia)\n",
    "diasfiltro.append(ultimodia)"
   ]
  },
  {
   "cell_type": "code",
   "execution_count": 33,
   "metadata": {},
   "outputs": [
    {
     "data": {
      "text/plain": [
       "[Timestamp('2012-04-30 09:16:03'),\n",
       " Timestamp('2012-05-30 09:16:03'),\n",
       " Timestamp('2012-06-29 09:16:03'),\n",
       " Timestamp('2012-07-29 09:16:03'),\n",
       " Timestamp('2012-08-28 09:16:03'),\n",
       " Timestamp('2012-07-31 09:15:31')]"
      ]
     },
     "execution_count": 33,
     "metadata": {},
     "output_type": "execute_result"
    }
   ],
   "source": [
    "diasfiltro"
   ]
  },
  {
   "cell_type": "code",
   "execution_count": 8,
   "metadata": {},
   "outputs": [],
   "source": [
    "Dia1_teste = A_orig[A_orig['TimestampUTC']<A_orig.loc[41800].TimestampUTC]\n",
    "mes1 = A_orig[(A_orig['TimestampUTC']>=diasfiltro[0]) & (A_orig['TimestampUTC']<diasfiltro[1])]\n",
    "mes2 = A_orig[(A_orig['TimestampUTC']>=diasfiltro[1]) & (A_orig['TimestampUTC']<diasfiltro[2])]\n",
    "mes3 = A_orig[(A_orig['TimestampUTC']>=diasfiltro[2]) & (A_orig['TimestampUTC']<diasfiltro[3])]"
   ]
  },
  {
   "cell_type": "code",
   "execution_count": 12,
   "metadata": {},
   "outputs": [],
   "source": [
    "Dia1_teste.set_index('TimestampUTC', inplace=True)"
   ]
  },
  {
   "cell_type": "code",
   "execution_count": 27,
   "metadata": {},
   "outputs": [
    {
     "data": {
      "text/html": [
       "<div>\n",
       "<style scoped>\n",
       "    .dataframe tbody tr th:only-of-type {\n",
       "        vertical-align: middle;\n",
       "    }\n",
       "\n",
       "    .dataframe tbody tr th {\n",
       "        vertical-align: top;\n",
       "    }\n",
       "\n",
       "    .dataframe thead th {\n",
       "        text-align: right;\n",
       "    }\n",
       "</style>\n",
       "<table border=\"1\" class=\"dataframe\">\n",
       "  <thead>\n",
       "    <tr style=\"text-align: right;\">\n",
       "      <th></th>\n",
       "      <th>TimestampUTC</th>\n",
       "      <th>Watts</th>\n",
       "    </tr>\n",
       "  </thead>\n",
       "  <tbody>\n",
       "    <tr>\n",
       "      <th>0</th>\n",
       "      <td>2012-04-30 09:16:03</td>\n",
       "      <td>280.415</td>\n",
       "    </tr>\n",
       "    <tr>\n",
       "      <th>1</th>\n",
       "      <td>2012-04-30 09:16:08</td>\n",
       "      <td>279.209</td>\n",
       "    </tr>\n",
       "    <tr>\n",
       "      <th>2</th>\n",
       "      <td>2012-04-30 09:16:13</td>\n",
       "      <td>21.016</td>\n",
       "    </tr>\n",
       "    <tr>\n",
       "      <th>3</th>\n",
       "      <td>2012-04-30 09:16:15</td>\n",
       "      <td>284.964</td>\n",
       "    </tr>\n",
       "    <tr>\n",
       "      <th>4</th>\n",
       "      <td>2012-04-30 09:16:16</td>\n",
       "      <td>280.383</td>\n",
       "    </tr>\n",
       "    <tr>\n",
       "      <th>...</th>\n",
       "      <td>...</td>\n",
       "      <td>...</td>\n",
       "    </tr>\n",
       "    <tr>\n",
       "      <th>2133074</th>\n",
       "      <td>2012-05-30 00:56:48</td>\n",
       "      <td>4.814</td>\n",
       "    </tr>\n",
       "    <tr>\n",
       "      <th>2133075</th>\n",
       "      <td>2012-05-30 00:56:49</td>\n",
       "      <td>1.517</td>\n",
       "    </tr>\n",
       "    <tr>\n",
       "      <th>2133076</th>\n",
       "      <td>2012-05-30 00:56:51</td>\n",
       "      <td>4.325</td>\n",
       "    </tr>\n",
       "    <tr>\n",
       "      <th>2133077</th>\n",
       "      <td>2012-05-30 00:56:52</td>\n",
       "      <td>6.037</td>\n",
       "    </tr>\n",
       "    <tr>\n",
       "      <th>2133078</th>\n",
       "      <td>2012-05-30 00:56:55</td>\n",
       "      <td>6.560</td>\n",
       "    </tr>\n",
       "  </tbody>\n",
       "</table>\n",
       "<p>2133079 rows × 2 columns</p>\n",
       "</div>"
      ],
      "text/plain": [
       "               TimestampUTC    Watts\n",
       "0       2012-04-30 09:16:03  280.415\n",
       "1       2012-04-30 09:16:08  279.209\n",
       "2       2012-04-30 09:16:13   21.016\n",
       "3       2012-04-30 09:16:15  284.964\n",
       "4       2012-04-30 09:16:16  280.383\n",
       "...                     ...      ...\n",
       "2133074 2012-05-30 00:56:48    4.814\n",
       "2133075 2012-05-30 00:56:49    1.517\n",
       "2133076 2012-05-30 00:56:51    4.325\n",
       "2133077 2012-05-30 00:56:52    6.037\n",
       "2133078 2012-05-30 00:56:55    6.560\n",
       "\n",
       "[2133079 rows x 2 columns]"
      ]
     },
     "execution_count": 27,
     "metadata": {},
     "output_type": "execute_result"
    }
   ],
   "source": [
    "mes1"
   ]
  },
  {
   "cell_type": "code",
   "execution_count": 54,
   "metadata": {},
   "outputs": [],
   "source": [
    "di = p.datetime.datetime(year=2012, month=4, day=30)\n",
    "df = p.datetime.datetime(year=2012, month=7, day=31, hour=23, minute=59, second=59)\n",
    "idx_dates_orig = pd.date_range(di, df, freq=p.datetime.timedelta(seconds=1))"
   ]
  },
  {
   "cell_type": "code",
   "execution_count": 77,
   "metadata": {},
   "outputs": [],
   "source": [
    "tdelta_mes = p.datetime.timedelta(days=30)\n",
    "ultimodia = A_orig_inputed['TimestampUTC'].iloc[-1]\n",
    "primeirodia = A_orig_inputed['TimestampUTC'].iloc[0]\n",
    "diasfiltro = []\n",
    "while primeirodia<ultimodia:\n",
    "    diasfiltro.append(primeirodia)\n",
    "    primeirodia+=tdelta_mes\n",
    "diasfiltro.append(ultimodia) "
   ]
  },
  {
   "cell_type": "code",
   "execution_count": 78,
   "metadata": {},
   "outputs": [
    {
     "data": {
      "text/plain": [
       "[Timestamp('2012-04-30 00:00:00'),\n",
       " Timestamp('2012-05-30 00:00:00'),\n",
       " Timestamp('2012-06-29 00:00:00'),\n",
       " Timestamp('2012-07-29 00:00:00'),\n",
       " Timestamp('2012-07-31 23:59:59')]"
      ]
     },
     "execution_count": 78,
     "metadata": {},
     "output_type": "execute_result"
    }
   ],
   "source": [
    "diasfiltro"
   ]
  },
  {
   "cell_type": "code",
   "execution_count": 111,
   "metadata": {},
   "outputs": [],
   "source": [
    "groupby_minutes = mes1.groupby(pd.PeriodIndex(data=mes1.index, freq=p.datetime.timedelta(minutes=1)))"
   ]
  },
  {
   "cell_type": "code",
   "execution_count": 113,
   "metadata": {},
   "outputs": [],
   "source": [
    "results = groupby_minutes.sum()"
   ]
  },
  {
   "cell_type": "code",
   "execution_count": 115,
   "metadata": {},
   "outputs": [
    {
     "data": {
      "text/plain": [
       "550390.205"
      ]
     },
     "execution_count": 115,
     "metadata": {},
     "output_type": "execute_result"
    }
   ],
   "source": [
    "results['Watts'].max()"
   ]
  },
  {
   "cell_type": "code",
   "execution_count": 145,
   "metadata": {},
   "outputs": [],
   "source": [
    "A_orig.set_index('TimestampUTC', inplace=True)"
   ]
  },
  {
   "cell_type": "code",
   "execution_count": 146,
   "metadata": {},
   "outputs": [],
   "source": [
    "A_orig_groupby_minutes = A_orig.groupby(pd.PeriodIndex(data=A_orig.index, freq=p.datetime.timedelta(minutes=1)))\n",
    "A_orig_minutes = A_orig_groupby_minutes.mean()"
   ]
  },
  {
   "cell_type": "code",
   "execution_count": null,
   "metadata": {},
   "outputs": [],
   "source": []
  },
  {
   "cell_type": "code",
   "execution_count": 124,
   "metadata": {},
   "outputs": [
    {
     "data": {
      "text/html": [
       "<div>\n",
       "<style scoped>\n",
       "    .dataframe tbody tr th:only-of-type {\n",
       "        vertical-align: middle;\n",
       "    }\n",
       "\n",
       "    .dataframe tbody tr th {\n",
       "        vertical-align: top;\n",
       "    }\n",
       "\n",
       "    .dataframe thead th {\n",
       "        text-align: right;\n",
       "    }\n",
       "</style>\n",
       "<table border=\"1\" class=\"dataframe\">\n",
       "  <thead>\n",
       "    <tr style=\"text-align: right;\">\n",
       "      <th></th>\n",
       "      <th>Watts</th>\n",
       "    </tr>\n",
       "    <tr>\n",
       "      <th>TimestampUTC</th>\n",
       "      <th></th>\n",
       "    </tr>\n",
       "  </thead>\n",
       "  <tbody>\n",
       "    <tr>\n",
       "      <th>2012-07-31 09:11</th>\n",
       "      <td>1023.205283</td>\n",
       "    </tr>\n",
       "    <tr>\n",
       "      <th>2012-07-31 09:12</th>\n",
       "      <td>1214.194589</td>\n",
       "    </tr>\n",
       "    <tr>\n",
       "      <th>2012-07-31 09:13</th>\n",
       "      <td>715.829174</td>\n",
       "    </tr>\n",
       "    <tr>\n",
       "      <th>2012-07-31 09:14</th>\n",
       "      <td>655.161864</td>\n",
       "    </tr>\n",
       "    <tr>\n",
       "      <th>2012-07-31 09:15</th>\n",
       "      <td>1021.731258</td>\n",
       "    </tr>\n",
       "  </tbody>\n",
       "</table>\n",
       "</div>"
      ],
      "text/plain": [
       "                        Watts\n",
       "TimestampUTC                 \n",
       "2012-07-31 09:11  1023.205283\n",
       "2012-07-31 09:12  1214.194589\n",
       "2012-07-31 09:13   715.829174\n",
       "2012-07-31 09:14   655.161864\n",
       "2012-07-31 09:15  1021.731258"
      ]
     },
     "execution_count": 124,
     "metadata": {},
     "output_type": "execute_result"
    }
   ],
   "source": [
    "A_orig_minutes.tail()"
   ]
  },
  {
   "cell_type": "code",
   "execution_count": 148,
   "metadata": {},
   "outputs": [],
   "source": [
    "di = p.datetime.datetime(year=2012, month=4, day=30)\n",
    "df = p.datetime.datetime(year=2012, month=7, day=31, hour=23, minute=59, second=59)\n",
    "idx_dates_orig = pd.period_range(di, df, freq=p.datetime.timedelta(minutes=1))"
   ]
  },
  {
   "cell_type": "code",
   "execution_count": 150,
   "metadata": {},
   "outputs": [
    {
     "data": {
      "text/plain": [
       "PeriodIndex(['2012-04-30 00:00', '2012-04-30 00:01', '2012-04-30 00:02',\n",
       "             '2012-04-30 00:03', '2012-04-30 00:04', '2012-04-30 00:05',\n",
       "             '2012-04-30 00:06', '2012-04-30 00:07', '2012-04-30 00:08',\n",
       "             '2012-04-30 00:09',\n",
       "             ...\n",
       "             '2012-07-31 23:50', '2012-07-31 23:51', '2012-07-31 23:52',\n",
       "             '2012-07-31 23:53', '2012-07-31 23:54', '2012-07-31 23:55',\n",
       "             '2012-07-31 23:56', '2012-07-31 23:57', '2012-07-31 23:58',\n",
       "             '2012-07-31 23:59'],\n",
       "            dtype='period[T]', length=133920)"
      ]
     },
     "execution_count": 150,
     "metadata": {},
     "output_type": "execute_result"
    }
   ],
   "source": [
    "idx_dates_orig"
   ]
  },
  {
   "cell_type": "code",
   "execution_count": 151,
   "metadata": {},
   "outputs": [],
   "source": [
    "A_orig_inputed = A_orig_minutes.reindex(idx_dates_orig, fill_value=0)"
   ]
  },
  {
   "cell_type": "code",
   "execution_count": 155,
   "metadata": {},
   "outputs": [],
   "source": [
    "A_orig_inputed.reset_index(inplace=True)\n",
    "A_orig_inputed.rename(columns={'index':'TimestampUTC'}, inplace=True)"
   ]
  },
  {
   "cell_type": "code",
   "execution_count": 158,
   "metadata": {},
   "outputs": [],
   "source": [
    "A_orig_inputed.to_csv(\"datasets/originais/A_orig_inputed.csv\", index=False)"
   ]
  },
  {
   "cell_type": "code",
   "execution_count": 162,
   "metadata": {},
   "outputs": [
    {
     "data": {
      "text/plain": [
       "93.0"
      ]
     },
     "execution_count": 162,
     "metadata": {},
     "output_type": "execute_result"
    }
   ],
   "source": [
    "len(A_orig_inputed)/(24*60)"
   ]
  },
  {
   "cell_type": "code",
   "execution_count": 163,
   "metadata": {},
   "outputs": [
    {
     "data": {
      "text/plain": [
       "1440"
      ]
     },
     "execution_count": 163,
     "metadata": {},
     "output_type": "execute_result"
    }
   ],
   "source": [
    "24*60"
   ]
  },
  {
   "cell_type": "code",
   "execution_count": 161,
   "metadata": {},
   "outputs": [
    {
     "data": {
      "text/html": [
       "<div>\n",
       "<style scoped>\n",
       "    .dataframe tbody tr th:only-of-type {\n",
       "        vertical-align: middle;\n",
       "    }\n",
       "\n",
       "    .dataframe tbody tr th {\n",
       "        vertical-align: top;\n",
       "    }\n",
       "\n",
       "    .dataframe thead th {\n",
       "        text-align: right;\n",
       "    }\n",
       "</style>\n",
       "<table border=\"1\" class=\"dataframe\">\n",
       "  <thead>\n",
       "    <tr style=\"text-align: right;\">\n",
       "      <th></th>\n",
       "      <th>TimestampUTC</th>\n",
       "      <th>Watts</th>\n",
       "    </tr>\n",
       "  </thead>\n",
       "  <tbody>\n",
       "    <tr>\n",
       "      <th>556</th>\n",
       "      <td>2012-04-30 09:16</td>\n",
       "      <td>247.027844</td>\n",
       "    </tr>\n",
       "    <tr>\n",
       "      <th>557</th>\n",
       "      <td>2012-04-30 09:17</td>\n",
       "      <td>214.662750</td>\n",
       "    </tr>\n",
       "    <tr>\n",
       "      <th>558</th>\n",
       "      <td>2012-04-30 09:18</td>\n",
       "      <td>247.871965</td>\n",
       "    </tr>\n",
       "    <tr>\n",
       "      <th>559</th>\n",
       "      <td>2012-04-30 09:19</td>\n",
       "      <td>314.757795</td>\n",
       "    </tr>\n",
       "    <tr>\n",
       "      <th>560</th>\n",
       "      <td>2012-04-30 09:20</td>\n",
       "      <td>248.162667</td>\n",
       "    </tr>\n",
       "    <tr>\n",
       "      <th>...</th>\n",
       "      <td>...</td>\n",
       "      <td>...</td>\n",
       "    </tr>\n",
       "    <tr>\n",
       "      <th>133031</th>\n",
       "      <td>2012-07-31 09:11</td>\n",
       "      <td>1023.205283</td>\n",
       "    </tr>\n",
       "    <tr>\n",
       "      <th>133032</th>\n",
       "      <td>2012-07-31 09:12</td>\n",
       "      <td>1214.194589</td>\n",
       "    </tr>\n",
       "    <tr>\n",
       "      <th>133033</th>\n",
       "      <td>2012-07-31 09:13</td>\n",
       "      <td>715.829174</td>\n",
       "    </tr>\n",
       "    <tr>\n",
       "      <th>133034</th>\n",
       "      <td>2012-07-31 09:14</td>\n",
       "      <td>655.161864</td>\n",
       "    </tr>\n",
       "    <tr>\n",
       "      <th>133035</th>\n",
       "      <td>2012-07-31 09:15</td>\n",
       "      <td>1021.731258</td>\n",
       "    </tr>\n",
       "  </tbody>\n",
       "</table>\n",
       "<p>128351 rows × 2 columns</p>\n",
       "</div>"
      ],
      "text/plain": [
       "            TimestampUTC        Watts\n",
       "556     2012-04-30 09:16   247.027844\n",
       "557     2012-04-30 09:17   214.662750\n",
       "558     2012-04-30 09:18   247.871965\n",
       "559     2012-04-30 09:19   314.757795\n",
       "560     2012-04-30 09:20   248.162667\n",
       "...                  ...          ...\n",
       "133031  2012-07-31 09:11  1023.205283\n",
       "133032  2012-07-31 09:12  1214.194589\n",
       "133033  2012-07-31 09:13   715.829174\n",
       "133034  2012-07-31 09:14   655.161864\n",
       "133035  2012-07-31 09:15  1021.731258\n",
       "\n",
       "[128351 rows x 2 columns]"
      ]
     },
     "execution_count": 161,
     "metadata": {},
     "output_type": "execute_result"
    }
   ],
   "source": [
    "A_orig_inputed[A_orig_inputed['Watts']>0]"
   ]
  },
  {
   "cell_type": "code",
   "execution_count": 164,
   "metadata": {},
   "outputs": [],
   "source": [
    "A = pd.read_csv(\"datasets/originais/A_orig_inputed.csv\")"
   ]
  },
  {
   "cell_type": "code",
   "execution_count": 166,
   "metadata": {},
   "outputs": [
    {
     "data": {
      "text/plain": [
       "9867.8804"
      ]
     },
     "execution_count": 166,
     "metadata": {},
     "output_type": "execute_result"
    }
   ],
   "source": [
    "A['Watts'].max()"
   ]
  },
  {
   "attachments": {},
   "cell_type": "markdown",
   "metadata": {},
   "source": [
    "# Avaliação"
   ]
  },
  {
   "attachments": {},
   "cell_type": "markdown",
   "metadata": {},
   "source": [
    "## A"
   ]
  },
  {
   "cell_type": "code",
   "execution_count": 10,
   "metadata": {},
   "outputs": [],
   "source": [
    "A_orig = pd.read_csv(\"datasets/originais/Dataset_PreProcessed_A.csv\", parse_dates=[0])"
   ]
  },
  {
   "cell_type": "code",
   "execution_count": 12,
   "metadata": {},
   "outputs": [],
   "source": [
    "# removendo valores nulos\n",
    "A_orig = A_orig[['TimestampUTC','Watts']]"
   ]
  },
  {
   "cell_type": "code",
   "execution_count": 14,
   "metadata": {},
   "outputs": [],
   "source": [
    "A_orig.set_index('TimestampUTC', inplace=True)"
   ]
  },
  {
   "cell_type": "code",
   "execution_count": 20,
   "metadata": {},
   "outputs": [
    {
     "data": {
      "text/html": [
       "<div>\n",
       "<style scoped>\n",
       "    .dataframe tbody tr th:only-of-type {\n",
       "        vertical-align: middle;\n",
       "    }\n",
       "\n",
       "    .dataframe tbody tr th {\n",
       "        vertical-align: top;\n",
       "    }\n",
       "\n",
       "    .dataframe thead th {\n",
       "        text-align: right;\n",
       "    }\n",
       "</style>\n",
       "<table border=\"1\" class=\"dataframe\">\n",
       "  <thead>\n",
       "    <tr style=\"text-align: right;\">\n",
       "      <th></th>\n",
       "      <th>Watts</th>\n",
       "    </tr>\n",
       "    <tr>\n",
       "      <th>TimestampUTC</th>\n",
       "      <th></th>\n",
       "    </tr>\n",
       "  </thead>\n",
       "  <tbody>\n",
       "    <tr>\n",
       "      <th>2012-04-30 09:16:03</th>\n",
       "      <td>280.415</td>\n",
       "    </tr>\n",
       "    <tr>\n",
       "      <th>2012-04-30 09:16:08</th>\n",
       "      <td>279.209</td>\n",
       "    </tr>\n",
       "    <tr>\n",
       "      <th>2012-04-30 09:16:13</th>\n",
       "      <td>21.016</td>\n",
       "    </tr>\n",
       "    <tr>\n",
       "      <th>2012-04-30 09:16:15</th>\n",
       "      <td>284.964</td>\n",
       "    </tr>\n",
       "    <tr>\n",
       "      <th>2012-04-30 09:16:16</th>\n",
       "      <td>280.383</td>\n",
       "    </tr>\n",
       "    <tr>\n",
       "      <th>...</th>\n",
       "      <td>...</td>\n",
       "    </tr>\n",
       "    <tr>\n",
       "      <th>2012-07-31 09:15:27</th>\n",
       "      <td>1249.384</td>\n",
       "    </tr>\n",
       "    <tr>\n",
       "      <th>2012-07-31 09:15:28</th>\n",
       "      <td>511.068</td>\n",
       "    </tr>\n",
       "    <tr>\n",
       "      <th>2012-07-31 09:15:29</th>\n",
       "      <td>1248.056</td>\n",
       "    </tr>\n",
       "    <tr>\n",
       "      <th>2012-07-31 09:15:30</th>\n",
       "      <td>1247.033</td>\n",
       "    </tr>\n",
       "    <tr>\n",
       "      <th>2012-07-31 09:15:31</th>\n",
       "      <td>508.056</td>\n",
       "    </tr>\n",
       "  </tbody>\n",
       "</table>\n",
       "<p>5474706 rows × 1 columns</p>\n",
       "</div>"
      ],
      "text/plain": [
       "                        Watts\n",
       "TimestampUTC                 \n",
       "2012-04-30 09:16:03   280.415\n",
       "2012-04-30 09:16:08   279.209\n",
       "2012-04-30 09:16:13    21.016\n",
       "2012-04-30 09:16:15   284.964\n",
       "2012-04-30 09:16:16   280.383\n",
       "...                       ...\n",
       "2012-07-31 09:15:27  1249.384\n",
       "2012-07-31 09:15:28   511.068\n",
       "2012-07-31 09:15:29  1248.056\n",
       "2012-07-31 09:15:30  1247.033\n",
       "2012-07-31 09:15:31   508.056\n",
       "\n",
       "[5474706 rows x 1 columns]"
      ]
     },
     "execution_count": 20,
     "metadata": {},
     "output_type": "execute_result"
    }
   ],
   "source": [
    "A_orig"
   ]
  },
  {
   "cell_type": "code",
   "execution_count": null,
   "metadata": {},
   "outputs": [],
   "source": [
    "A_orig_groupby_minutes = A_orig.groupby(pd.PeriodIndex(data=A_orig.index, freq=\"\", minute=15))\n",
    "A_orig_15minutes = A_orig_groupby_minutes.mean()"
   ]
  },
  {
   "cell_type": "code",
   "execution_count": 19,
   "metadata": {},
   "outputs": [
    {
     "data": {
      "text/plain": [
       "<2 * Minutes>"
      ]
     },
     "execution_count": 19,
     "metadata": {},
     "output_type": "execute_result"
    }
   ],
   "source": [
    "A_orig_15minutes.index[2] - A_orig_15minutes.index[0]"
   ]
  },
  {
   "cell_type": "code",
   "execution_count": 39,
   "metadata": {},
   "outputs": [
    {
     "data": {
      "text/html": [
       "<div>\n",
       "<style scoped>\n",
       "    .dataframe tbody tr th:only-of-type {\n",
       "        vertical-align: middle;\n",
       "    }\n",
       "\n",
       "    .dataframe tbody tr th {\n",
       "        vertical-align: top;\n",
       "    }\n",
       "\n",
       "    .dataframe thead th {\n",
       "        text-align: right;\n",
       "    }\n",
       "</style>\n",
       "<table border=\"1\" class=\"dataframe\">\n",
       "  <thead>\n",
       "    <tr style=\"text-align: right;\">\n",
       "      <th></th>\n",
       "      <th>Watts</th>\n",
       "    </tr>\n",
       "    <tr>\n",
       "      <th>TimestampUTC</th>\n",
       "      <th></th>\n",
       "    </tr>\n",
       "  </thead>\n",
       "  <tbody>\n",
       "    <tr>\n",
       "      <th>2012-04-30 09:16</th>\n",
       "      <td>247.027844</td>\n",
       "    </tr>\n",
       "    <tr>\n",
       "      <th>2012-04-30 09:17</th>\n",
       "      <td>214.662750</td>\n",
       "    </tr>\n",
       "    <tr>\n",
       "      <th>2012-04-30 09:18</th>\n",
       "      <td>247.871965</td>\n",
       "    </tr>\n",
       "    <tr>\n",
       "      <th>2012-04-30 09:19</th>\n",
       "      <td>314.757795</td>\n",
       "    </tr>\n",
       "    <tr>\n",
       "      <th>2012-04-30 09:20</th>\n",
       "      <td>248.162667</td>\n",
       "    </tr>\n",
       "    <tr>\n",
       "      <th>...</th>\n",
       "      <td>...</td>\n",
       "    </tr>\n",
       "    <tr>\n",
       "      <th>2012-07-31 09:11</th>\n",
       "      <td>1023.205283</td>\n",
       "    </tr>\n",
       "    <tr>\n",
       "      <th>2012-07-31 09:12</th>\n",
       "      <td>1214.194589</td>\n",
       "    </tr>\n",
       "    <tr>\n",
       "      <th>2012-07-31 09:13</th>\n",
       "      <td>715.829174</td>\n",
       "    </tr>\n",
       "    <tr>\n",
       "      <th>2012-07-31 09:14</th>\n",
       "      <td>655.161864</td>\n",
       "    </tr>\n",
       "    <tr>\n",
       "      <th>2012-07-31 09:15</th>\n",
       "      <td>1021.731258</td>\n",
       "    </tr>\n",
       "  </tbody>\n",
       "</table>\n",
       "<p>128351 rows × 1 columns</p>\n",
       "</div>"
      ],
      "text/plain": [
       "                        Watts\n",
       "TimestampUTC                 \n",
       "2012-04-30 09:16   247.027844\n",
       "2012-04-30 09:17   214.662750\n",
       "2012-04-30 09:18   247.871965\n",
       "2012-04-30 09:19   314.757795\n",
       "2012-04-30 09:20   248.162667\n",
       "...                       ...\n",
       "2012-07-31 09:11  1023.205283\n",
       "2012-07-31 09:12  1214.194589\n",
       "2012-07-31 09:13   715.829174\n",
       "2012-07-31 09:14   655.161864\n",
       "2012-07-31 09:15  1021.731258\n",
       "\n",
       "[128351 rows x 1 columns]"
      ]
     },
     "execution_count": 39,
     "metadata": {},
     "output_type": "execute_result"
    }
   ],
   "source": [
    "# Create the PeriodIndex object\n",
    "A_orig_idx_hours = A_orig.groupby(pd.PeriodIndex(data=A_orig.index, freq=\"15min\"))\n",
    "A_orig_idx_hours.mean()\n"
   ]
  },
  {
   "cell_type": "code",
   "execution_count": 48,
   "metadata": {},
   "outputs": [],
   "source": [
    "media_15minutos = pd.DataFrame(A_orig.groupby(pd.Grouper(freq='5Min'))['Watts'].mean())"
   ]
  },
  {
   "cell_type": "code",
   "execution_count": 49,
   "metadata": {},
   "outputs": [
    {
     "data": {
      "text/html": [
       "<div>\n",
       "<style scoped>\n",
       "    .dataframe tbody tr th:only-of-type {\n",
       "        vertical-align: middle;\n",
       "    }\n",
       "\n",
       "    .dataframe tbody tr th {\n",
       "        vertical-align: top;\n",
       "    }\n",
       "\n",
       "    .dataframe thead th {\n",
       "        text-align: right;\n",
       "    }\n",
       "</style>\n",
       "<table border=\"1\" class=\"dataframe\">\n",
       "  <thead>\n",
       "    <tr style=\"text-align: right;\">\n",
       "      <th></th>\n",
       "      <th>Watts</th>\n",
       "    </tr>\n",
       "    <tr>\n",
       "      <th>TimestampUTC</th>\n",
       "      <th></th>\n",
       "    </tr>\n",
       "  </thead>\n",
       "  <tbody>\n",
       "    <tr>\n",
       "      <th>2012-04-30 09:15:00</th>\n",
       "      <td>255.175403</td>\n",
       "    </tr>\n",
       "    <tr>\n",
       "      <th>2012-04-30 09:20:00</th>\n",
       "      <td>260.125966</td>\n",
       "    </tr>\n",
       "    <tr>\n",
       "      <th>2012-04-30 09:25:00</th>\n",
       "      <td>161.001249</td>\n",
       "    </tr>\n",
       "    <tr>\n",
       "      <th>2012-04-30 09:30:00</th>\n",
       "      <td>215.354728</td>\n",
       "    </tr>\n",
       "    <tr>\n",
       "      <th>2012-04-30 09:35:00</th>\n",
       "      <td>796.750381</td>\n",
       "    </tr>\n",
       "    <tr>\n",
       "      <th>...</th>\n",
       "      <td>...</td>\n",
       "    </tr>\n",
       "    <tr>\n",
       "      <th>2012-07-31 08:55:00</th>\n",
       "      <td>419.929917</td>\n",
       "    </tr>\n",
       "    <tr>\n",
       "      <th>2012-07-31 09:00:00</th>\n",
       "      <td>411.864020</td>\n",
       "    </tr>\n",
       "    <tr>\n",
       "      <th>2012-07-31 09:05:00</th>\n",
       "      <td>599.584745</td>\n",
       "    </tr>\n",
       "    <tr>\n",
       "      <th>2012-07-31 09:10:00</th>\n",
       "      <td>938.990070</td>\n",
       "    </tr>\n",
       "    <tr>\n",
       "      <th>2012-07-31 09:15:00</th>\n",
       "      <td>1021.731258</td>\n",
       "    </tr>\n",
       "  </tbody>\n",
       "</table>\n",
       "<p>26497 rows × 1 columns</p>\n",
       "</div>"
      ],
      "text/plain": [
       "                           Watts\n",
       "TimestampUTC                    \n",
       "2012-04-30 09:15:00   255.175403\n",
       "2012-04-30 09:20:00   260.125966\n",
       "2012-04-30 09:25:00   161.001249\n",
       "2012-04-30 09:30:00   215.354728\n",
       "2012-04-30 09:35:00   796.750381\n",
       "...                          ...\n",
       "2012-07-31 08:55:00   419.929917\n",
       "2012-07-31 09:00:00   411.864020\n",
       "2012-07-31 09:05:00   599.584745\n",
       "2012-07-31 09:10:00   938.990070\n",
       "2012-07-31 09:15:00  1021.731258\n",
       "\n",
       "[26497 rows x 1 columns]"
      ]
     },
     "execution_count": 49,
     "metadata": {},
     "output_type": "execute_result"
    }
   ],
   "source": [
    "media_15minutos"
   ]
  },
  {
   "attachments": {},
   "cell_type": "markdown",
   "metadata": {},
   "source": [
    "## Falso"
   ]
  },
  {
   "cell_type": "code",
   "execution_count": 50,
   "metadata": {},
   "outputs": [],
   "source": [
    "A_orig_fake = np.load(\"datasets/generated/originais/A/A_sab_0_1min.npy\")"
   ]
  },
  {
   "cell_type": "code",
   "execution_count": 74,
   "metadata": {},
   "outputs": [],
   "source": [
    "A_orig_inputed = pd.read_csv(\"datasets/originais/A_orig_inputed.csv\", parse_dates=[0])\n",
    "A_orig_inputed.set_index('TimestampUTC',inplace=True)"
   ]
  },
  {
   "cell_type": "code",
   "execution_count": 75,
   "metadata": {},
   "outputs": [],
   "source": [
    "A_orig_inputed15 = pd.DataFrame(A_orig_inputed.groupby(pd.Grouper(freq='15min'))['Watts'].mean())"
   ]
  },
  {
   "cell_type": "code",
   "execution_count": 79,
   "metadata": {},
   "outputs": [
    {
     "data": {
      "text/html": [
       "<div>\n",
       "<style scoped>\n",
       "    .dataframe tbody tr th:only-of-type {\n",
       "        vertical-align: middle;\n",
       "    }\n",
       "\n",
       "    .dataframe tbody tr th {\n",
       "        vertical-align: top;\n",
       "    }\n",
       "\n",
       "    .dataframe thead th {\n",
       "        text-align: right;\n",
       "    }\n",
       "</style>\n",
       "<table border=\"1\" class=\"dataframe\">\n",
       "  <thead>\n",
       "    <tr style=\"text-align: right;\">\n",
       "      <th></th>\n",
       "      <th>Watts</th>\n",
       "    </tr>\n",
       "    <tr>\n",
       "      <th>TimestampUTC</th>\n",
       "      <th></th>\n",
       "    </tr>\n",
       "  </thead>\n",
       "  <tbody>\n",
       "    <tr>\n",
       "      <th>2012-04-30 00:00:00</th>\n",
       "      <td>0.0</td>\n",
       "    </tr>\n",
       "    <tr>\n",
       "      <th>2012-04-30 00:15:00</th>\n",
       "      <td>0.0</td>\n",
       "    </tr>\n",
       "    <tr>\n",
       "      <th>2012-04-30 00:30:00</th>\n",
       "      <td>0.0</td>\n",
       "    </tr>\n",
       "    <tr>\n",
       "      <th>2012-04-30 00:45:00</th>\n",
       "      <td>0.0</td>\n",
       "    </tr>\n",
       "    <tr>\n",
       "      <th>2012-04-30 01:00:00</th>\n",
       "      <td>0.0</td>\n",
       "    </tr>\n",
       "    <tr>\n",
       "      <th>...</th>\n",
       "      <td>...</td>\n",
       "    </tr>\n",
       "    <tr>\n",
       "      <th>2012-07-31 22:45:00</th>\n",
       "      <td>0.0</td>\n",
       "    </tr>\n",
       "    <tr>\n",
       "      <th>2012-07-31 23:00:00</th>\n",
       "      <td>0.0</td>\n",
       "    </tr>\n",
       "    <tr>\n",
       "      <th>2012-07-31 23:15:00</th>\n",
       "      <td>0.0</td>\n",
       "    </tr>\n",
       "    <tr>\n",
       "      <th>2012-07-31 23:30:00</th>\n",
       "      <td>0.0</td>\n",
       "    </tr>\n",
       "    <tr>\n",
       "      <th>2012-07-31 23:45:00</th>\n",
       "      <td>0.0</td>\n",
       "    </tr>\n",
       "  </tbody>\n",
       "</table>\n",
       "<p>8928 rows × 1 columns</p>\n",
       "</div>"
      ],
      "text/plain": [
       "                     Watts\n",
       "TimestampUTC              \n",
       "2012-04-30 00:00:00    0.0\n",
       "2012-04-30 00:15:00    0.0\n",
       "2012-04-30 00:30:00    0.0\n",
       "2012-04-30 00:45:00    0.0\n",
       "2012-04-30 01:00:00    0.0\n",
       "...                    ...\n",
       "2012-07-31 22:45:00    0.0\n",
       "2012-07-31 23:00:00    0.0\n",
       "2012-07-31 23:15:00    0.0\n",
       "2012-07-31 23:30:00    0.0\n",
       "2012-07-31 23:45:00    0.0\n",
       "\n",
       "[8928 rows x 1 columns]"
      ]
     },
     "execution_count": 79,
     "metadata": {},
     "output_type": "execute_result"
    }
   ],
   "source": [
    "A_orig_inputed15"
   ]
  },
  {
   "cell_type": "code",
   "execution_count": 57,
   "metadata": {},
   "outputs": [],
   "source": [
    "A_orig_fake = A_orig_fake.flatten()\n",
    "A_orig_fake = A_orig_fake[:len(A_orig_inputed)]"
   ]
  },
  {
   "cell_type": "code",
   "execution_count": 58,
   "metadata": {},
   "outputs": [],
   "source": [
    "from sklearn.preprocessing import MinMaxScaler"
   ]
  },
  {
   "cell_type": "code",
   "execution_count": 59,
   "metadata": {},
   "outputs": [],
   "source": [
    "scaler = MinMaxScaler().fit(A_orig_inputed['Watts'].values.reshape(-1,1))"
   ]
  },
  {
   "cell_type": "code",
   "execution_count": 60,
   "metadata": {},
   "outputs": [],
   "source": [
    "A_orig_fake = scaler.inverse_transform(A_orig_fake.reshape(-1,1)).flatten()\n"
   ]
  },
  {
   "cell_type": "code",
   "execution_count": 62,
   "metadata": {},
   "outputs": [],
   "source": [
    "df_fakeA = pd.DataFrame({\n",
    "    'TimestampUTC':A_orig_inputed['TimestampUTC'],\n",
    "    'Watts':A_orig_fake})"
   ]
  },
  {
   "cell_type": "code",
   "execution_count": 65,
   "metadata": {},
   "outputs": [],
   "source": [
    "df_fakeA.set_index('TimestampUTC', inplace=True)"
   ]
  },
  {
   "cell_type": "code",
   "execution_count": 67,
   "metadata": {},
   "outputs": [],
   "source": [
    "df_fakeA15  = pd.DataFrame(df_fakeA.groupby(pd.Grouper(freq='15min'))['Watts'].mean())"
   ]
  },
  {
   "cell_type": "code",
   "execution_count": 69,
   "metadata": {},
   "outputs": [
    {
     "data": {
      "text/html": [
       "<div>\n",
       "<style scoped>\n",
       "    .dataframe tbody tr th:only-of-type {\n",
       "        vertical-align: middle;\n",
       "    }\n",
       "\n",
       "    .dataframe tbody tr th {\n",
       "        vertical-align: top;\n",
       "    }\n",
       "\n",
       "    .dataframe thead th {\n",
       "        text-align: right;\n",
       "    }\n",
       "</style>\n",
       "<table border=\"1\" class=\"dataframe\">\n",
       "  <thead>\n",
       "    <tr style=\"text-align: right;\">\n",
       "      <th></th>\n",
       "      <th>TimestampUTC</th>\n",
       "      <th>Watts</th>\n",
       "    </tr>\n",
       "  </thead>\n",
       "  <tbody>\n",
       "    <tr>\n",
       "      <th>0</th>\n",
       "      <td>2012-04-30 00:00:00</td>\n",
       "      <td>1104.045654</td>\n",
       "    </tr>\n",
       "    <tr>\n",
       "      <th>1</th>\n",
       "      <td>2012-04-30 00:15:00</td>\n",
       "      <td>905.586792</td>\n",
       "    </tr>\n",
       "    <tr>\n",
       "      <th>2</th>\n",
       "      <td>2012-04-30 00:30:00</td>\n",
       "      <td>915.770142</td>\n",
       "    </tr>\n",
       "    <tr>\n",
       "      <th>3</th>\n",
       "      <td>2012-04-30 00:45:00</td>\n",
       "      <td>969.611694</td>\n",
       "    </tr>\n",
       "    <tr>\n",
       "      <th>4</th>\n",
       "      <td>2012-04-30 01:00:00</td>\n",
       "      <td>901.278442</td>\n",
       "    </tr>\n",
       "    <tr>\n",
       "      <th>...</th>\n",
       "      <td>...</td>\n",
       "      <td>...</td>\n",
       "    </tr>\n",
       "    <tr>\n",
       "      <th>8923</th>\n",
       "      <td>2012-07-31 22:45:00</td>\n",
       "      <td>1035.541870</td>\n",
       "    </tr>\n",
       "    <tr>\n",
       "      <th>8924</th>\n",
       "      <td>2012-07-31 23:00:00</td>\n",
       "      <td>1061.671753</td>\n",
       "    </tr>\n",
       "    <tr>\n",
       "      <th>8925</th>\n",
       "      <td>2012-07-31 23:15:00</td>\n",
       "      <td>1528.010864</td>\n",
       "    </tr>\n",
       "    <tr>\n",
       "      <th>8926</th>\n",
       "      <td>2012-07-31 23:30:00</td>\n",
       "      <td>1408.133057</td>\n",
       "    </tr>\n",
       "    <tr>\n",
       "      <th>8927</th>\n",
       "      <td>2012-07-31 23:45:00</td>\n",
       "      <td>1228.724976</td>\n",
       "    </tr>\n",
       "  </tbody>\n",
       "</table>\n",
       "<p>8928 rows × 2 columns</p>\n",
       "</div>"
      ],
      "text/plain": [
       "            TimestampUTC        Watts\n",
       "0    2012-04-30 00:00:00  1104.045654\n",
       "1    2012-04-30 00:15:00   905.586792\n",
       "2    2012-04-30 00:30:00   915.770142\n",
       "3    2012-04-30 00:45:00   969.611694\n",
       "4    2012-04-30 01:00:00   901.278442\n",
       "...                  ...          ...\n",
       "8923 2012-07-31 22:45:00  1035.541870\n",
       "8924 2012-07-31 23:00:00  1061.671753\n",
       "8925 2012-07-31 23:15:00  1528.010864\n",
       "8926 2012-07-31 23:30:00  1408.133057\n",
       "8927 2012-07-31 23:45:00  1228.724976\n",
       "\n",
       "[8928 rows x 2 columns]"
      ]
     },
     "execution_count": 69,
     "metadata": {},
     "output_type": "execute_result"
    }
   ],
   "source": [
    "df_fakeA15.reset_index(inplace=True)\n",
    "df_fakeA15.rename(columns={'index':'TimestampUTC'})"
   ]
  },
  {
   "cell_type": "code",
   "execution_count": 71,
   "metadata": {},
   "outputs": [],
   "source": [
    "df_fakeA15.to_csv(\"datasets/generated/originais/A/A.csv\", index=False)"
   ]
  },
  {
   "cell_type": "code",
   "execution_count": 72,
   "metadata": {},
   "outputs": [
    {
     "data": {
      "text/plain": [
       "(133920, 2)"
      ]
     },
     "execution_count": 72,
     "metadata": {},
     "output_type": "execute_result"
    }
   ],
   "source": [
    "A_orig_inputed.shape"
   ]
  },
  {
   "cell_type": "code",
   "execution_count": 90,
   "metadata": {},
   "outputs": [],
   "source": [
    "treino = A_orig_inputed15['Watts'].values"
   ]
  },
  {
   "cell_type": "code",
   "execution_count": 91,
   "metadata": {},
   "outputs": [
    {
     "data": {
      "text/plain": [
       "8928"
      ]
     },
     "execution_count": 91,
     "metadata": {},
     "output_type": "execute_result"
    }
   ],
   "source": [
    "len(treino)"
   ]
  },
  {
   "cell_type": "code",
   "execution_count": 94,
   "metadata": {},
   "outputs": [],
   "source": [
    "df_sample = p.get_df(A_orig_inputed15.index, treino.reshape(len(treino), 1), timesteps=96)\n",
    "dict_weeks_real = {wk:p.get_count(df_sample, wk, timestep=96, column='ts')['cnt_0'] for wk in range(7)}"
   ]
  },
  {
   "cell_type": "code",
   "execution_count": 85,
   "metadata": {},
   "outputs": [],
   "source": [
    "treino_fake = df_fakeA15['Watts'].values"
   ]
  },
  {
   "cell_type": "code",
   "execution_count": 87,
   "metadata": {},
   "outputs": [
    {
     "data": {
      "text/plain": [
       "(8928,)"
      ]
     },
     "execution_count": 87,
     "metadata": {},
     "output_type": "execute_result"
    }
   ],
   "source": [
    "treino_fake.shape"
   ]
  },
  {
   "cell_type": "code",
   "execution_count": 88,
   "metadata": {},
   "outputs": [
    {
     "data": {
      "text/plain": [
       "133920"
      ]
     },
     "execution_count": 88,
     "metadata": {},
     "output_type": "execute_result"
    }
   ],
   "source": [
    "len(A_orig_inputed.index)"
   ]
  },
  {
   "cell_type": "code",
   "execution_count": 95,
   "metadata": {},
   "outputs": [],
   "source": [
    "df_sample_fake = p.get_df(A_orig_inputed15.index, treino_fake.reshape(len(treino_fake), 1), timesteps=96)\n",
    "dict_weeks_fake = {wk:p.get_count(df_sample_fake, wk, timestep=96, column='ts')['cnt_0'] for wk in range(7)}"
   ]
  },
  {
   "cell_type": "code",
   "execution_count": 103,
   "metadata": {},
   "outputs": [
    {
     "data": {
      "text/plain": [
       "[<matplotlib.lines.Line2D at 0x7f8204320c50>]"
      ]
     },
     "execution_count": 103,
     "metadata": {},
     "output_type": "execute_result"
    },
    {
     "data": {
      "image/png": "[encoded data removed]",
      "text/plain": [
       "<Figure size 432x288 with 1 Axes>"
      ]
     },
     "metadata": {
      "needs_background": "light"
     },
     "output_type": "display_data"
    }
   ],
   "source": [
    "wk = 6\n",
    "plt.plot(dict_weeks_real[wk])\n",
    "plt.plot(dict_weeks_fake[wk])"
   ]
  },
  {
   "cell_type": "code",
   "execution_count": null,
   "metadata": {},
   "outputs": [],
   "source": []
  }
 ],
 "metadata": {
  "kernelspec": {
   "display_name": "gans_trajsp3",
   "language": "python",
   "name": "gans_trajsp3"
  },
  "language_info": {
   "codemirror_mode": {
    "name": "ipython",
    "version": 3
   },
   "file_extension": ".py",
   "mimetype": "text/x-python",
   "name": "python",
   "nbconvert_exporter": "python",
   "pygments_lexer": "ipython3",
   "version": "3.7.3"
  },
  "orig_nbformat": 4
 },
 "nbformat": 4,
 "nbformat_minor": 2
}
